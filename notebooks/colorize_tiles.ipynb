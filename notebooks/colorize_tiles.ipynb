{
 "cells": [
  {
   "cell_type": "code",
   "execution_count": 2,
   "metadata": {},
   "outputs": [],
   "source": [
    "from __future__ import print_function\n",
    "import cv2\n",
    "import numpy as np\n",
    "import pandas as pd\n",
    "import matplotlib.pyplot as plt\n",
    "import seaborn as sns\n",
    "import os\n",
    "import glob\n",
    "\n",
    "colors = np.array([[175, 33, 8],\n",
    "                   [20, 145, 4],\n",
    "                   [177, 11, 237],\n",
    "                   [14, 187, 235],\n",
    "                   [3, 102, 163],\n",
    "                   [0,0,0]\n",
    "                  ])\n",
    "class_dict = {0: 'G3', 1: 'G4', 2: 'G5', 3: 'BN', 4: 'ST'}"
   ]
  },
  {
   "cell_type": "code",
   "execution_count": 42,
   "metadata": {},
   "outputs": [
    {
     "name": "stdout",
     "output_type": "stream",
     "text": [
      "2971\n",
      "2971\n",
      "Mismatch\n",
      "0\n",
      "Mismatch2\n",
      "0\n"
     ]
    }
   ],
   "source": [
    "xl = sorted(glob.glob('../data/train_mask_ext/*png'))\n",
    "xbase = [os.path.basename(x).replace('.png', '') for x in xl]\n",
    "print(len(xbase))\n",
    "\n",
    "il = sorted(glob.glob('../data/train_jpg_ext/*jpg'))\n",
    "ibase = [os.path.basename(x).replace('.jpg', '') for x in il]\n",
    "print(len(il))\n",
    "\n",
    "mismatch = [x for x in xbase if x not in ibase]\n",
    "mismatch2 = [x for x in ibase if x not in xbase]\n",
    "\n",
    "print('Mismatch')\n",
    "print(len(mismatch))\n",
    "print('Mismatch2')\n",
    "print(len(mismatch2))"
   ]
  },
  {
   "cell_type": "code",
   "execution_count": 37,
   "metadata": {},
   "outputs": [
    {
     "name": "stdout",
     "output_type": "stream",
     "text": [
      "[]\n"
     ]
    }
   ],
   "source": [
    "print(mismatch2)"
   ]
  },
  {
   "cell_type": "code",
   "execution_count": 58,
   "metadata": {},
   "outputs": [
    {
     "name": "stdout",
     "output_type": "stream",
     "text": [
      "125 125\n",
      "86 86\n",
      "0 0\n"
     ]
    }
   ],
   "source": [
    "mask_list = sorted(glob.glob('../data/val_mask/*.png'))\n",
    "mask_list_ = [x for x in mask_list if 'test' not in x]\n",
    "mask_list_d = [x for x in mask_list if 'durham' in x]\n",
    "img_list = sorted(glob.glob('../data/val_jpg/*.jpg'))\n",
    "img_list_ = [x for x in img_list if 'test' not in x]\n",
    "img_list_d = [x for x in img_list if 'durham' in x]\n",
    "print(len(mask_list), len(img_list))\n",
    "print(len(mask_list_), len(img_list_))\n",
    "print(len(mask_list_d), len(img_list_d))"
   ]
  },
  {
   "cell_type": "code",
   "execution_count": 59,
   "metadata": {
    "scrolled": true
   },
   "outputs": [
    {
     "data": {
      "image/png": "[encoded data removed]",
      "text/plain": [
       "<Figure size 432x288 with 1 Axes>"
      ]
     },
     "metadata": {},
     "output_type": "display_data"
    }
   ],
   "source": [
    "for mask_path, img_path in zip(mask_list_, img_list_):\n",
    "    mask = cv2.imread(mask_path, -1)\n",
    "    img = cv2.imread(img_path)\n",
    "    img_out = np.dstack([np.zeros_like(mask)]*3)\n",
    "    \n",
    "#     mask2 = np.copy(mask)\n",
    "#     mask[mask2 == 2] = 3\n",
    "#     mask[mask2 == 3] = 4\n",
    "    \n",
    "    for k in range(5):\n",
    "        img_out[mask == k, 0] = colors[k, 0]\n",
    "        img_out[mask == k, 1] = colors[k, 1]\n",
    "        img_out[mask == k, 2] = colors[k, 2]\n",
    "\n",
    "    plt.imshow(img_out)\n",
    "\n",
    "    tag_str = ''\n",
    "    for k in np.unique(mask):\n",
    "        tag_str += '_{}'.format(class_dict[k])\n",
    "\n",
    "    basepath = os.path.basename(mask_path).replace('.png', '{}.jpg'.format(tag_str))\n",
    "    outpath = os.path.join('../data/tmp/{}'.format(basepath))\n",
    "\n",
    "    maskbase = os.path.basename(mask_path)        \n",
    "    imgbase = os.path.basename(img_path)        \n",
    "    \n",
    "#     maskpth = os.path.join('../data/val_mask_ext', maskbase)\n",
    "#     imgpth = os.path.join('../data/val_jpg_ext', imgbase)\n",
    "#     print(maskpth, imgpth)\n",
    "#     cv2.imwrite(maskpth, mask)\n",
    "#     cv2.imwrite(imgpth, img)\n",
    "    \n",
    "    img_out = np.hstack([img_out[:,:,::-1], img])\n",
    "    cv2.imwrite(outpath, img_out)\n",
    "    \n",
    "#     cv2.imwrite(mask_path, mask)"
   ]
  },
  {
   "cell_type": "code",
   "execution_count": null,
   "metadata": {},
   "outputs": [],
   "source": []
  }
 ],
 "metadata": {
  "kernelspec": {
   "display_name": "Python 2",
   "language": "python",
   "name": "python2"
  },
  "language_info": {
   "codemirror_mode": {
    "name": "ipython",
    "version": 2
   },
   "file_extension": ".py",
   "mimetype": "text/x-python",
   "name": "python",
   "nbconvert_exporter": "python",
   "pygments_lexer": "ipython2",
   "version": "2.7.12"
  }
 },
 "nbformat": 4,
 "nbformat_minor": 2
}
