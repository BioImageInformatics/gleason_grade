{
 "cells": [
  {
   "cell_type": "code",
   "execution_count": 1,
   "metadata": {},
   "outputs": [],
   "source": [
    "from __future__ import print_function\n",
    "import os\n",
    "import sys\n",
    "import cv2\n",
    "import numpy as np\n",
    "import pandas as pd\n",
    "import time\n",
    "import glob\n",
    "\n",
    "import tensorflow as tf"
   ]
  },
  {
   "cell_type": "code",
   "execution_count": 2,
   "metadata": {},
   "outputs": [
    {
     "name": "stdout",
     "output_type": "stream",
     "text": [
      "125\n"
     ]
    }
   ],
   "source": [
    "sys.path.insert(0, '..')\n",
    "from unet_small import Inference\n",
    "\n",
    "snapshot = '../unet_small/10x/snapshots/unet.ckpt-20150'\n",
    "\n",
    "image_path = '/media/ing/D/image_data/segmentation/gleason_grade/cbm_split/val_jpg/'\n",
    "image_list = glob.glob(image_path + '*.jpg')\n",
    "print(len(image_list))"
   ]
  },
  {
   "cell_type": "code",
   "execution_count": 3,
   "metadata": {},
   "outputs": [
    {
     "name": "stdout",
     "output_type": "stream",
     "text": [
      "Setting up unet in inference mode\n",
      "DenseNet Model\n",
      "Non-linearity: <function selu at 0x7f83b32f8ed8>\n",
      "\t x_in (?, 256, 256, 3)\n",
      "down1_0 (?, 256, 256, 32)\n",
      "down2_0 (?, 128, 128, 32)\n",
      "down3_0 (?, 64, 64, 128)\n",
      "down4_0 (?, 32, 32, 256)\n",
      "down5_0 (?, 16, 16, 512)\n",
      "concat4 (?, 32, 32, 512)\n",
      "up4_1 (?, 32, 32, 256)\n",
      "concat3 (?, 64, 64, 256)\n",
      "up3_1 (?, 64, 64, 128)\n",
      "concat2 (?, 128, 128, 64)\n",
      "up2_1 (?, 128, 128, 32)\n",
      "concat1 (?, 256, 256, 64)\n",
      "up1_1 (?, 256, 256, 32)\n",
      "y_hat (?, 256, 256, 5)\n",
      "Model output y_hat: (?, 256, 256, 5)\n",
      "Restoring from ../unet_small/10x/snapshots/unet.ckpt-20150\n",
      "INFO:tensorflow:Restoring parameters from ../unet_small/10x/snapshots/unet.ckpt-20150\n",
      "Success!\n",
      "Mean time: 0.00955421638489\n",
      "Median time: 0.00450301170349\n",
      "Min time: 0.00433993339539\n",
      "Max time: 0.623451948166\n",
      "[0.62345195 0.00447297 0.00449204 0.00449586 0.00455999 0.00462198\n",
      " 0.00453997 0.004462   0.00438595 0.00443912 0.00452995 0.00448704\n",
      " 0.00455308 0.00445294 0.00446606 0.00438881 0.00444794 0.0044508\n",
      " 0.00448799 0.00488496 0.004457   0.00447392 0.00460386 0.004457\n",
      " 0.004529   0.00440502 0.00462699 0.00447297 0.004493   0.00450206\n",
      " 0.004601   0.00485206 0.0044539  0.00455809 0.00436115 0.0044539\n",
      " 0.00443602 0.004426   0.00454092 0.00438118 0.00457406 0.00447416\n",
      " 0.00447798 0.00447106 0.00441313 0.00451899 0.00441408 0.00437307\n",
      " 0.00440598 0.00455308 0.00456309 0.00443101 0.00477695 0.00435901\n",
      " 0.00437403 0.00433993 0.00449395 0.00460505 0.00439405 0.00450301\n",
      " 0.00458193 0.00486898 0.00444484 0.00454497 0.00545788 0.00453591\n",
      " 0.00446701 0.00531006 0.00444102 0.005234   0.00456905 0.00461411\n",
      " 0.00443196 0.00451899 0.0045321  0.00443411 0.00453615 0.00456595\n",
      " 0.00500798 0.00448704 0.00511408 0.00456595 0.00585985 0.00447392\n",
      " 0.00489902 0.00441217 0.00490999 0.0046761  0.004565   0.00454307\n",
      " 0.00440216 0.00437403 0.00439906 0.00447583 0.00437617 0.00530005\n",
      " 0.00462794 0.00512791 0.00544596 0.0048871  0.004915   0.00500321\n",
      " 0.00541091 0.00510097 0.00510001 0.00458097 0.00460792 0.00442004\n",
      " 0.00460601 0.00444984 0.00448799 0.0045321  0.00441599 0.0044899\n",
      " 0.00465202 0.00459599 0.00449395 0.0045619  0.00446486 0.00448704\n",
      " 0.00447488 0.00483704 0.00462699 0.00448394 0.00478601]\n"
     ]
    }
   ],
   "source": [
    "config = tf.ConfigProto()\n",
    "config.gpu_options.allow_growth = True\n",
    "\n",
    "n_imgs = len(image_list)\n",
    "with tf.Session(config=config) as sess:\n",
    "    model = Inference(sess=sess, x_dims=[256, 256, 3])\n",
    "    model.restore(snapshot)\n",
    "    times = []\n",
    "    for img_path in image_list:\n",
    "        img = cv2.imread(img_path)[:,:,::-1]\n",
    "        \n",
    "        img = np.expand_dims(img[:256, :256, :], 0)\n",
    "        ts = time.time()\n",
    "        Y = model.inference(img)\n",
    "        times.append(time.time() - ts)\n",
    "        \n",
    "times = np.asarray(times)\n",
    "print('Mean time: {}'.format(times.mean()))\n",
    "print('Median time: {}'.format(np.median(times)))\n",
    "print('Min time: {}'.format(times.min()))\n",
    "print('Max time: {}'.format(times.max()))\n",
    "print(times)"
   ]
  },
  {
   "cell_type": "code",
   "execution_count": null,
   "metadata": {},
   "outputs": [],
   "source": []
  }
 ],
 "metadata": {
  "kernelspec": {
   "display_name": "Python 2",
   "language": "python",
   "name": "python2"
  },
  "language_info": {
   "codemirror_mode": {
    "name": "ipython",
    "version": 2
   },
   "file_extension": ".py",
   "mimetype": "text/x-python",
   "name": "python",
   "nbconvert_exporter": "python",
   "pygments_lexer": "ipython2",
   "version": "2.7.12"
  }
 },
 "nbformat": 4,
 "nbformat_minor": 2
}
