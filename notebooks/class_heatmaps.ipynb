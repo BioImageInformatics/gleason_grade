{
 "cells": [
  {
   "cell_type": "code",
   "execution_count": 2,
   "metadata": {},
   "outputs": [],
   "source": [
    "from __future__ import print_function\n",
    "import cv2\n",
    "import numpy as np\n",
    "import glob\n",
    "import os\n",
    "\n",
    "%matplotlib inline\n",
    "from matplotlib import pyplot as plt\n",
    "plt.style.use('seaborn-white')\n"
   ]
  },
  {
   "cell_type": "code",
   "execution_count": 7,
   "metadata": {
    "scrolled": true
   },
   "outputs": [
    {
     "name": "stdout",
     "output_type": "stream",
     "text": [
      "34 34\n"
     ]
    }
   ],
   "source": [
    "prob_list = sorted(glob.glob('../densenet/ext_10x/durham_val/*prob.npy'))\n",
    "img_list = sorted(glob.glob('../densenet/ext_10x/durham_val/*rgb.jpg'))\n",
    "print(len(prob_list), len(img_list))"
   ]
  },
  {
   "cell_type": "code",
   "execution_count": 8,
   "metadata": {},
   "outputs": [
    {
     "name": "stdout",
     "output_type": "stream",
     "text": [
      "0 ../densenet/ext_10x/durham_val/s10-3220-030_prob.npy ../densenet/ext_10x/durham_val/s10-3220-030_rgb.jpg\n",
      "1 ../densenet/ext_10x/durham_val/s10-3291-009_prob.npy ../densenet/ext_10x/durham_val/s10-3291-009_rgb.jpg\n",
      "2 ../densenet/ext_10x/durham_val/s10-3319-009_prob.npy ../densenet/ext_10x/durham_val/s10-3319-009_rgb.jpg\n",
      "3 ../densenet/ext_10x/durham_val/s10-3319-012_prob.npy ../densenet/ext_10x/durham_val/s10-3319-012_rgb.jpg\n",
      "4 ../densenet/ext_10x/durham_val/s10-3956-034_prob.npy ../densenet/ext_10x/durham_val/s10-3956-034_rgb.jpg\n",
      "5 ../densenet/ext_10x/durham_val/s10-4510-001_prob.npy ../densenet/ext_10x/durham_val/s10-4510-001_rgb.jpg\n",
      "6 ../densenet/ext_10x/durham_val/s10-4583-012_prob.npy ../densenet/ext_10x/durham_val/s10-4583-012_rgb.jpg\n",
      "7 ../densenet/ext_10x/durham_val/s10-5477-001_prob.npy ../densenet/ext_10x/durham_val/s10-5477-001_rgb.jpg\n",
      "8 ../densenet/ext_10x/durham_val/s10-586-000_prob.npy ../densenet/ext_10x/durham_val/s10-586-000_rgb.jpg\n",
      "9 ../densenet/ext_10x/durham_val/s10-6178-047_prob.npy ../densenet/ext_10x/durham_val/s10-6178-047_rgb.jpg\n",
      "10 ../densenet/ext_10x/durham_val/s12-1932-001_prob.npy ../densenet/ext_10x/durham_val/s12-1932-001_rgb.jpg\n",
      "11 ../densenet/ext_10x/durham_val/s12-3216-004_prob.npy ../densenet/ext_10x/durham_val/s12-3216-004_rgb.jpg\n",
      "12 ../densenet/ext_10x/durham_val/s12-444-003_prob.npy ../densenet/ext_10x/durham_val/s12-444-003_rgb.jpg\n",
      "13 ../densenet/ext_10x/durham_val/s12-444-004_prob.npy ../densenet/ext_10x/durham_val/s12-444-004_rgb.jpg\n",
      "14 ../densenet/ext_10x/durham_val/s12-6456-002_prob.npy ../densenet/ext_10x/durham_val/s12-6456-002_rgb.jpg\n",
      "15 ../densenet/ext_10x/durham_val/s12-6575-007_prob.npy ../densenet/ext_10x/durham_val/s12-6575-007_rgb.jpg\n",
      "16 ../densenet/ext_10x/durham_val/s12-6768-003_prob.npy ../densenet/ext_10x/durham_val/s12-6768-003_rgb.jpg\n",
      "17 ../densenet/ext_10x/durham_val/s12-6768-004_prob.npy ../densenet/ext_10x/durham_val/s12-6768-004_rgb.jpg\n",
      "18 ../densenet/ext_10x/durham_val/s12-7549-001_prob.npy ../densenet/ext_10x/durham_val/s12-7549-001_rgb.jpg\n",
      "19 ../densenet/ext_10x/durham_val/s12-7902-003_prob.npy ../densenet/ext_10x/durham_val/s12-7902-003_rgb.jpg\n",
      "20 ../densenet/ext_10x/durham_val/s12_1823-012_prob.npy ../densenet/ext_10x/durham_val/s12_1823-012_rgb.jpg\n",
      "21 ../densenet/ext_10x/durham_val/s12_8147-007_prob.npy ../densenet/ext_10x/durham_val/s12_8147-007_rgb.jpg\n",
      "22 ../densenet/ext_10x/durham_val/s12_8147-010_prob.npy ../densenet/ext_10x/durham_val/s12_8147-010_rgb.jpg\n",
      "23 ../densenet/ext_10x/durham_val/s13-058-004_prob.npy ../densenet/ext_10x/durham_val/s13-058-004_rgb.jpg\n",
      "24 ../densenet/ext_10x/durham_val/s13-059-000_prob.npy ../densenet/ext_10x/durham_val/s13-059-000_rgb.jpg\n",
      "25 ../densenet/ext_10x/durham_val/s13-3170-005_prob.npy ../densenet/ext_10x/durham_val/s13-3170-005_rgb.jpg\n",
      "26 ../densenet/ext_10x/durham_val/s13-3431-008_prob.npy ../densenet/ext_10x/durham_val/s13-3431-008_rgb.jpg\n",
      "27 ../densenet/ext_10x/durham_val/s13-4610-003_prob.npy ../densenet/ext_10x/durham_val/s13-4610-003_rgb.jpg\n",
      "28 ../densenet/ext_10x/durham_val/s13-4610-004_prob.npy ../densenet/ext_10x/durham_val/s13-4610-004_rgb.jpg\n",
      "29 ../densenet/ext_10x/durham_val/s13-5643-001_prob.npy ../densenet/ext_10x/durham_val/s13-5643-001_rgb.jpg\n",
      "30 ../densenet/ext_10x/durham_val/s13-764-001_prob.npy ../densenet/ext_10x/durham_val/s13-764-001_rgb.jpg\n",
      "31 ../densenet/ext_10x/durham_val/s13_2243-015_prob.npy ../densenet/ext_10x/durham_val/s13_2243-015_rgb.jpg\n",
      "32 ../densenet/ext_10x/durham_val/s13_5945-026_prob.npy ../densenet/ext_10x/durham_val/s13_5945-026_rgb.jpg\n",
      "33 ../densenet/ext_10x/durham_val/s13_5945-034_prob.npy ../densenet/ext_10x/durham_val/s13_5945-034_rgb.jpg\n"
     ]
    }
   ],
   "source": [
    "for ix, (pp, ip) in enumerate(zip(prob_list, img_list)):\n",
    "    print(ix, pp, ip)"
   ]
  },
  {
   "cell_type": "code",
   "execution_count": 10,
   "metadata": {
    "scrolled": true
   },
   "outputs": [],
   "source": [
    "for ix, _ in enumerate(img_list):\n",
    "    img = cv2.imread(img_list[ix])\n",
    "    probs = np.load(prob_list[ix])\n",
    "    outbase = os.path.basename(img_list[ix]).replace('_rgb.jpg', '_tumor.jpg')\n",
    "    px, py = probs.shape[:2]\n",
    "    probimg = probs[:,:,0] + probs[:,:,1] + probs[:,:,2]\n",
    "    kernel = np.ones((25,25),np.float32)/(25**2)\n",
    "    probimg = cv2.filter2D(probimg,-1,kernel)\n",
    "    probimg = (probimg / 255.).astype(np.float32)\n",
    "\n",
    "    red_mask = np.ones((px, py, 3), dtype=np.float32)\n",
    "    red_mask[:,:,0] *= 255\n",
    "    red_mask[:,:,0] *= probimg\n",
    "    \n",
    "    colored_img = img*0.3 + red_mask*0.7\n",
    "    outname = os.path.join('../densenet/ext_10x/durham_val/', outbase)\n",
    "    cv2.imwrite(outname, colored_img[:,:,::-1])\n"
   ]
  },
  {
   "cell_type": "code",
   "execution_count": null,
   "metadata": {},
   "outputs": [],
   "source": []
  }
 ],
 "metadata": {
  "kernelspec": {
   "display_name": "tensorflow",
   "language": "python",
   "name": "tensorflow"
  },
  "language_info": {
   "codemirror_mode": {
    "name": "ipython",
    "version": 2
   },
   "file_extension": ".py",
   "mimetype": "text/x-python",
   "name": "python",
   "nbconvert_exporter": "python",
   "pygments_lexer": "ipython2",
   "version": "2.7.12"
  }
 },
 "nbformat": 4,
 "nbformat_minor": 2
}
