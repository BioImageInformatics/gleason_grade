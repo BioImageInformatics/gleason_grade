{
 "cells": [
  {
   "cell_type": "code",
   "execution_count": 1,
   "metadata": {},
   "outputs": [
    {
     "data": {
      "text/html": [
       "<style>.container { width:100% !important; }</style>"
      ],
      "text/plain": [
       "<IPython.core.display.HTML object>"
      ]
     },
     "metadata": {},
     "output_type": "display_data"
    }
   ],
   "source": [
    "from IPython.core.display import display, HTML\n",
    "display(HTML(\"<style>.container { width:100% !important; }</style>\"))"
   ]
  },
  {
   "cell_type": "code",
   "execution_count": 1,
   "metadata": {},
   "outputs": [],
   "source": [
    "from __future__ import print_function\n",
    "import cv2\n",
    "import numpy as np\n",
    "import pandas as pd\n",
    "import matplotlib.pyplot as plt\n",
    "import seaborn as sns\n",
    "import os\n",
    "import glob\n",
    "\n",
    "colors = np.array([[175, 33, 8],\n",
    "                   [20, 145, 4],\n",
    "                   [177, 11, 237],\n",
    "                   [14, 187, 235],\n",
    "                   [3, 102, 163],\n",
    "                   [0,0,0]\n",
    "                  ])"
   ]
  },
  {
   "cell_type": "code",
   "execution_count": 3,
   "metadata": {
    "scrolled": true
   },
   "outputs": [
    {
     "name": "stdout",
     "output_type": "stream",
     "text": [
      "0 ../densenet_small/extended_10x/inference/1304700_color.jpg\n",
      "1 ../densenet_small/extended_10x/inference/1304702_color.jpg Exists\n",
      "2 ../densenet_small/extended_10x/inference/1304709_color.jpg\n",
      "3 ../densenet_small/extended_10x/inference/1304719_color.jpg Exists\n",
      "4 ../densenet_small/extended_10x/inference/1304720_color.jpg Exists\n",
      "5 ../densenet_small/extended_10x/inference/1304721_color.jpg\n",
      "6 ../densenet_small/extended_10x/inference/1304722_color.jpg Exists\n",
      "7 ../densenet_small/extended_10x/inference/1304732_color.jpg\n",
      "8 ../densenet_small/extended_10x/inference/1305444_color.jpg Exists\n",
      "9 ../densenet_small/extended_10x/inference/1305445_color.jpg Exists\n",
      "10 ../densenet_small/extended_10x/inference/1305446_color.jpg Exists\n",
      "11 ../densenet_small/extended_10x/inference/1305447_color.jpg Exists\n",
      "12 ../densenet_small/extended_10x/inference/1305448_color.jpg Exists\n",
      "13 ../densenet_small/extended_10x/inference/1305450_color.jpg Exists\n",
      "14 ../densenet_small/extended_10x/inference/1305451_color.jpg Exists\n",
      "15 ../densenet_small/extended_10x/inference/1305452_color.jpg\n",
      "16 ../densenet_small/extended_10x/inference/1305454_color.jpg\n",
      "17 ../densenet_small/extended_10x/inference/1305456_color.jpg Exists\n",
      "18 ../densenet_small/extended_10x/inference/1305460_color.jpg\n",
      "19 ../densenet_small/extended_10x/inference/1305475_color.jpg Exists\n",
      "20 ../densenet_small/extended_10x/inference/1305477_color.jpg Exists\n",
      "21 ../densenet_small/extended_10x/inference/1305478_color.jpg\n",
      "22 ../densenet_small/extended_10x/inference/1305480_color.jpg Exists\n",
      "23 ../densenet_small/extended_10x/inference/1305482_color.jpg Exists\n",
      "24 ../densenet_small/extended_10x/inference/1305483_color.jpg Exists\n",
      "25 ../densenet_small/extended_10x/inference/1305487_color.jpg Exists\n",
      "26 ../densenet_small/extended_10x/inference/1305489_color.jpg Exists\n",
      "27 ../densenet_small/extended_10x/inference/1305496_color.jpg Exists\n",
      "28 ../densenet_small/extended_10x/inference/1305498_color.jpg Exists\n",
      "29 ../densenet_small/extended_10x/inference/s10-3319-012_color.jpg\n",
      "30 ../densenet_small/extended_10x/inference/s10-3956-034_color.jpg\n",
      "31 ../densenet_small/extended_10x/inference/s12_1823-012_color.jpg Exists\n",
      "32 ../densenet_small/extended_10x/inference/s12_8147-010_color.jpg Exists\n",
      "33 ../densenet_small/extended_10x/inference/s13-4610-004_color.jpg Exists\n",
      "34 ../densenet_small/extended_10x/inference/s13-5643-001_color.jpg\n",
      "35 ../densenet_small/extended_10x/inference/s13_5945-026_color.jpg Exists\n",
      "36 ../densenet_small/extended_10x/inference/s13_5945-034_color.jpg\n"
     ]
    }
   ],
   "source": [
    "inf_list = glob.glob('../densenet_small/extended_10x/inference/*npy')  # Trained models\n",
    "# inf_list = glob.glob('../tfhub/inference/*/*.npy')  # Hub models\n",
    "for n, inf_path in enumerate(sorted(inf_list)):\n",
    "    inf_out = inf_path.replace('prob.npy', 'color.jpg')\n",
    "    if os.path.exists(inf_out):\n",
    "        print('{} {} Exists'.format(n, inf_out))\n",
    "        continue\n",
    "        \n",
    "    x = np.load(inf_path)\n",
    "\n",
    "    mask = np.zeros(list(x.shape[:2])+[3], dtype=np.uint8) \n",
    "    xsum = np.sum(x, axis=-1)\n",
    "    amax = np.argmax(x, axis=-1)\n",
    "    amax[xsum < 1.-1e-3] = 5\n",
    "\n",
    "    for k in range(5):\n",
    "        mask[amax==k] = colors[k,:]\n",
    "\n",
    "    print(n, inf_out)\n",
    "    cv2.imwrite(inf_out, mask[:,:,::-1])"
   ]
  },
  {
   "cell_type": "code",
   "execution_count": null,
   "metadata": {},
   "outputs": [],
   "source": [
    "\n"
   ]
  }
 ],
 "metadata": {
  "kernelspec": {
   "display_name": "Python 2",
   "language": "python",
   "name": "python2"
  },
  "language_info": {
   "codemirror_mode": {
    "name": "ipython",
    "version": 2
   },
   "file_extension": ".py",
   "mimetype": "text/x-python",
   "name": "python",
   "nbconvert_exporter": "python",
   "pygments_lexer": "ipython2",
   "version": "2.7.12"
  }
 },
 "nbformat": 4,
 "nbformat_minor": 2
}
