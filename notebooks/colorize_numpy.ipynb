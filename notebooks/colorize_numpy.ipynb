{
 "cells": [
  {
   "cell_type": "code",
   "execution_count": 2,
   "metadata": {},
   "outputs": [
    {
     "data": {
      "text/html": [
       "<style>.container { width:100% !important; }</style>"
      ],
      "text/plain": [
       "<IPython.core.display.HTML object>"
      ]
     },
     "metadata": {},
     "output_type": "display_data"
    }
   ],
   "source": [
    "from IPython.core.display import display, HTML\n",
    "display(HTML(\"<style>.container { width:100% !important; }</style>\"))"
   ]
  },
  {
   "cell_type": "code",
   "execution_count": 1,
   "metadata": {},
   "outputs": [],
   "source": [
    "from __future__ import print_function\n",
    "import cv2\n",
    "import numpy as np\n",
    "import pandas as pd\n",
    "import matplotlib.pyplot as plt\n",
    "import seaborn as sns\n",
    "import os\n",
    "import glob\n",
    "\n",
    "## 5 classes\n",
    "colors = np.array([[175, 33, 8],\n",
    "                   [20, 145, 4],\n",
    "                   [177, 11, 237],\n",
    "                   [14, 187, 235],\n",
    "                   [3, 102, 163],\n",
    "                   [0,0,0]\n",
    "                  ])\n",
    "\n",
    "# ## 4 classes\n",
    "# colors = np.array([[175, 33, 8],\n",
    "#                    [20, 145, 4],\n",
    "# #                    [177, 11, 237],\n",
    "#                    [14, 187, 235],\n",
    "#                    [3, 102, 163],\n",
    "#                    [0,0,0]\n",
    "#                   ])"
   ]
  },
  {
   "cell_type": "code",
   "execution_count": 5,
   "metadata": {
    "scrolled": true
   },
   "outputs": [
    {
     "name": "stdout",
     "output_type": "stream",
     "text": [
      "0 ../densenet/ext_5x/inference/1304700_color.jpg Exists\n",
      "1 ../densenet/ext_5x/inference/1304701_color.jpg Exists\n",
      "2 ../densenet/ext_5x/inference/1304702_color.jpg Exists\n",
      "3 ../densenet/ext_5x/inference/1304703_color.jpg Exists\n",
      "4 ../densenet/ext_5x/inference/1304704_color.jpg Exists\n",
      "5 ../densenet/ext_5x/inference/1304705_color.jpg Exists\n",
      "6 ../densenet/ext_5x/inference/1304706_color.jpg Exists\n",
      "7 ../densenet/ext_5x/inference/1304709_color.jpg Exists\n",
      "8 ../densenet/ext_5x/inference/1304711_color.jpg Exists\n",
      "9 ../densenet/ext_5x/inference/1304712_color.jpg\n",
      "10 ../densenet/ext_5x/inference/1304713_color.jpg Exists\n",
      "11 ../densenet/ext_5x/inference/1304715_color.jpg Exists\n",
      "12 ../densenet/ext_5x/inference/1304716_color.jpg Exists\n",
      "13 ../densenet/ext_5x/inference/1304717_color.jpg Exists\n",
      "14 ../densenet/ext_5x/inference/1304718_color.jpg\n",
      "15 ../densenet/ext_5x/inference/1304719_color.jpg Exists\n",
      "16 ../densenet/ext_5x/inference/1304720_color.jpg Exists\n",
      "17 ../densenet/ext_5x/inference/1304721_color.jpg Exists\n",
      "18 ../densenet/ext_5x/inference/1304722_color.jpg Exists\n",
      "19 ../densenet/ext_5x/inference/1304723_color.jpg\n",
      "20 ../densenet/ext_5x/inference/1304725_color.jpg Exists\n",
      "21 ../densenet/ext_5x/inference/1304726_color.jpg Exists\n",
      "22 ../densenet/ext_5x/inference/1304727_color.jpg Exists\n",
      "23 ../densenet/ext_5x/inference/1304728_color.jpg Exists\n",
      "24 ../densenet/ext_5x/inference/1304729_color.jpg Exists\n",
      "25 ../densenet/ext_5x/inference/1304730_color.jpg Exists\n",
      "26 ../densenet/ext_5x/inference/1304732_color.jpg Exists\n",
      "27 ../densenet/ext_5x/inference/1305444_color.jpg Exists\n",
      "28 ../densenet/ext_5x/inference/1305445_color.jpg Exists\n",
      "29 ../densenet/ext_5x/inference/1305446_color.jpg Exists\n",
      "30 ../densenet/ext_5x/inference/1305447_color.jpg Exists\n",
      "31 ../densenet/ext_5x/inference/1305448_color.jpg Exists\n",
      "32 ../densenet/ext_5x/inference/1305449_color.jpg Exists\n",
      "33 ../densenet/ext_5x/inference/1305450_color.jpg Exists\n",
      "34 ../densenet/ext_5x/inference/1305451_color.jpg Exists\n",
      "35 ../densenet/ext_5x/inference/1305452_color.jpg Exists\n",
      "36 ../densenet/ext_5x/inference/1305453_color.jpg Exists\n",
      "37 ../densenet/ext_5x/inference/1305454_color.jpg Exists\n",
      "38 ../densenet/ext_5x/inference/1305455_color.jpg Exists\n",
      "39 ../densenet/ext_5x/inference/1305456_color.jpg Exists\n",
      "40 ../densenet/ext_5x/inference/1305457_color.jpg Exists\n",
      "41 ../densenet/ext_5x/inference/1305458_color.jpg Exists\n",
      "42 ../densenet/ext_5x/inference/1305459_color.jpg Exists\n",
      "43 ../densenet/ext_5x/inference/1305460_color.jpg Exists\n",
      "44 ../densenet/ext_5x/inference/1305461_color.jpg Exists\n",
      "45 ../densenet/ext_5x/inference/1305472_color.jpg Exists\n",
      "46 ../densenet/ext_5x/inference/1305473_color.jpg\n",
      "47 ../densenet/ext_5x/inference/1305474_color.jpg Exists\n",
      "48 ../densenet/ext_5x/inference/1305475_color.jpg Exists\n",
      "49 ../densenet/ext_5x/inference/1305476_color.jpg Exists\n",
      "50 ../densenet/ext_5x/inference/1305477_color.jpg Exists\n",
      "51 ../densenet/ext_5x/inference/1305478_color.jpg Exists\n",
      "52 ../densenet/ext_5x/inference/1305479_color.jpg Exists\n",
      "53 ../densenet/ext_5x/inference/1305480_color.jpg Exists\n",
      "54 ../densenet/ext_5x/inference/1305481_color.jpg Exists\n",
      "55 ../densenet/ext_5x/inference/1305482_color.jpg Exists\n",
      "56 ../densenet/ext_5x/inference/1305483_color.jpg Exists\n",
      "57 ../densenet/ext_5x/inference/1305484_color.jpg Exists\n",
      "58 ../densenet/ext_5x/inference/1305485_color.jpg Exists\n",
      "59 ../densenet/ext_5x/inference/1305487_color.jpg Exists\n",
      "60 ../densenet/ext_5x/inference/1305488_color.jpg Exists\n",
      "61 ../densenet/ext_5x/inference/1305489_color.jpg Exists\n",
      "62 ../densenet/ext_5x/inference/1305490_color.jpg Exists\n",
      "63 ../densenet/ext_5x/inference/1305491_color.jpg Exists\n",
      "64 ../densenet/ext_5x/inference/1305493_color.jpg Exists\n",
      "65 ../densenet/ext_5x/inference/1305494_color.jpg Exists\n",
      "66 ../densenet/ext_5x/inference/1305495_color.jpg Exists\n",
      "67 ../densenet/ext_5x/inference/1305496_color.jpg Exists\n",
      "68 ../densenet/ext_5x/inference/1305497_color.jpg Exists\n",
      "69 ../densenet/ext_5x/inference/1305498_color.jpg Exists\n",
      "70 ../densenet/ext_5x/inference/s10-3220-030_color.jpg Exists\n",
      "71 ../densenet/ext_5x/inference/s10-3291-009_color.jpg Exists\n",
      "72 ../densenet/ext_5x/inference/s10-3319-009_color.jpg Exists\n",
      "73 ../densenet/ext_5x/inference/s10-3319-012_color.jpg Exists\n",
      "74 ../densenet/ext_5x/inference/s10-3956-034_color.jpg\n",
      "75 ../densenet/ext_5x/inference/s10-4510-001_color.jpg Exists\n",
      "76 ../densenet/ext_5x/inference/s10-4583-012_color.jpg Exists\n",
      "77 ../densenet/ext_5x/inference/s10-5477-001_color.jpg\n",
      "78 ../densenet/ext_5x/inference/s10-586-000_color.jpg Exists\n",
      "79 ../densenet/ext_5x/inference/s10-6178-047_color.jpg Exists\n",
      "80 ../densenet/ext_5x/inference/s12-1932-001_color.jpg\n",
      "81 ../densenet/ext_5x/inference/s12-3216-004_color.jpg Exists\n",
      "82 ../densenet/ext_5x/inference/s12-444-003_color.jpg Exists\n",
      "83 ../densenet/ext_5x/inference/s12-444-004_color.jpg Exists\n",
      "84 ../densenet/ext_5x/inference/s12-6456-002_color.jpg Exists\n",
      "85 ../densenet/ext_5x/inference/s12-6575-007_color.jpg Exists\n",
      "86 ../densenet/ext_5x/inference/s12-6768-003_color.jpg Exists\n",
      "87 ../densenet/ext_5x/inference/s12-6768-004_color.jpg Exists\n",
      "88 ../densenet/ext_5x/inference/s12-7549-001_color.jpg\n",
      "89 ../densenet/ext_5x/inference/s12-7902-003_color.jpg\n",
      "90 ../densenet/ext_5x/inference/s12_1823-012_color.jpg Exists\n",
      "91 ../densenet/ext_5x/inference/s12_8147-007_color.jpg Exists\n",
      "92 ../densenet/ext_5x/inference/s12_8147-010_color.jpg Exists\n",
      "93 ../densenet/ext_5x/inference/s13-058-004_color.jpg Exists\n",
      "94 ../densenet/ext_5x/inference/s13-059-000_color.jpg Exists\n",
      "95 ../densenet/ext_5x/inference/s13-3170-005_color.jpg Exists\n",
      "96 ../densenet/ext_5x/inference/s13-3431-008_color.jpg Exists\n",
      "97 ../densenet/ext_5x/inference/s13-4610-003_color.jpg Exists\n",
      "98 ../densenet/ext_5x/inference/s13-4610-004_color.jpg Exists\n",
      "99 ../densenet/ext_5x/inference/s13-5643-001_color.jpg Exists\n",
      "100 ../densenet/ext_5x/inference/s13-764-001_color.jpg Exists\n",
      "101 ../densenet/ext_5x/inference/s13_2243-015_color.jpg Exists\n",
      "102 ../densenet/ext_5x/inference/s13_5945-026_color.jpg Exists\n",
      "103 ../densenet/ext_5x/inference/s13_5945-034_color.jpg Exists\n"
     ]
    }
   ],
   "source": [
    "inf_list = glob.glob('../densenet/ext_5x/inference/*npy')  # Trained models\n",
    "# inf_list = glob.glob('../tfhub/inference/mobilenet_v2_050_224_*/*.npy')  # Hub models\n",
    "for n, inf_path in enumerate(sorted(inf_list)):\n",
    "    inf_out = inf_path.replace('prob.npy', 'color.jpg')\n",
    "    if os.path.exists(inf_out):\n",
    "        print('{} {} Exists'.format(n, inf_out))\n",
    "        continue\n",
    "        \n",
    "    x = np.load(inf_path)\n",
    "\n",
    "    mask = np.zeros(list(x.shape[:2])+[3], dtype=np.uint8) \n",
    "    xsum = np.sum(x, axis=-1)\n",
    "    amax = np.argmax(x, axis=-1)\n",
    "    amax[xsum < 1.-1e-3] = 5\n",
    "\n",
    "    for k in range(5):\n",
    "        mask[amax==k] = colors[k,:]\n",
    "\n",
    "    print(n, inf_out)\n",
    "    cv2.imwrite(inf_out, mask[:,:,::-1])"
   ]
  },
  {
   "cell_type": "code",
   "execution_count": null,
   "metadata": {},
   "outputs": [],
   "source": [
    "\n"
   ]
  }
 ],
 "metadata": {
  "kernelspec": {
   "display_name": "Python 2",
   "language": "python",
   "name": "python2"
  },
  "language_info": {
   "codemirror_mode": {
    "name": "ipython",
    "version": 2
   },
   "file_extension": ".py",
   "mimetype": "text/x-python",
   "name": "python",
   "nbconvert_exporter": "python",
   "pygments_lexer": "ipython2",
   "version": "2.7.12"
  }
 },
 "nbformat": 4,
 "nbformat_minor": 2
}
