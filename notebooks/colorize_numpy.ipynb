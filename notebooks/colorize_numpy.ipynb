{
 "cells": [
  {
   "cell_type": "code",
   "execution_count": 1,
   "metadata": {},
   "outputs": [],
   "source": [
    "from __future__ import print_function\n",
    "import cv2\n",
    "import numpy as np\n",
    "import pandas as pd\n",
    "import matplotlib.pyplot as plt\n",
    "import seaborn as sns\n",
    "import os\n",
    "import glob"
   ]
  },
  {
   "cell_type": "code",
   "execution_count": 2,
   "metadata": {},
   "outputs": [],
   "source": [
    "inf_list = glob.glob('../unet/10x/inference/*npy')"
   ]
  },
  {
   "cell_type": "code",
   "execution_count": 21,
   "metadata": {},
   "outputs": [],
   "source": [
    "colors = np.array([[214, 6, 6],\n",
    "                   [20, 145, 4],\n",
    "                   [110, 33, 198],\n",
    "                   [14, 187, 235],\n",
    "                   [3, 102, 163],\n",
    "                   [0,0,0]\n",
    "                  ])"
   ]
  },
  {
   "cell_type": "code",
   "execution_count": 22,
   "metadata": {},
   "outputs": [
    {
     "name": "stdout",
     "output_type": "stream",
     "text": [
      "../unet/10x/inference/1305449_color.jpg\n"
     ]
    },
    {
     "data": {
      "text/plain": [
       "True"
      ]
     },
     "execution_count": 22,
     "metadata": {},
     "output_type": "execute_result"
    }
   ],
   "source": [
    "inf_path = inf_list[0]\n",
    "for inf_path in in\n",
    "inf_out = inf_path.replace('prob.npy', 'color.jpg')\n",
    "x = np.load(inf_path)\n",
    "\n",
    "mask = np.zeros(list(x.shape[:2])+[3], dtype=np.uint8) \n",
    "xsum = np.sum(x, axis=-1)\n",
    "amax = np.argmax(x, axis=-1)\n",
    "amax[xsum < 1.-1e-3] = 5\n",
    "\n",
    "for k in range(5):\n",
    "    mask[amax==k] = colors[k,:]\n",
    "    \n",
    "print(inf_out)\n",
    "cv2.imwrite(inf_out, mask[:,:,::-1])"
   ]
  },
  {
   "cell_type": "code",
   "execution_count": null,
   "metadata": {},
   "outputs": [],
   "source": [
    "\n"
   ]
  }
 ],
 "metadata": {
  "kernelspec": {
   "display_name": "tensorflow",
   "language": "python",
   "name": "tensorflow"
  },
  "language_info": {
   "codemirror_mode": {
    "name": "ipython",
    "version": 2
   },
   "file_extension": ".py",
   "mimetype": "text/x-python",
   "name": "python",
   "nbconvert_exporter": "python",
   "pygments_lexer": "ipython2",
   "version": "2.7.12"
  }
 },
 "nbformat": 4,
 "nbformat_minor": 2
}
