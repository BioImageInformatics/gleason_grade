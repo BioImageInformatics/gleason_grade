{
 "cells": [
  {
   "cell_type": "code",
   "execution_count": 1,
   "metadata": {},
   "outputs": [
    {
     "data": {
      "text/html": [
       "<style>.container { width:100% !important; }</style>"
      ],
      "text/plain": [
       "<IPython.core.display.HTML object>"
      ]
     },
     "metadata": {},
     "output_type": "display_data"
    }
   ],
   "source": [
    "from IPython.core.display import display, HTML\n",
    "display(HTML(\"<style>.container { width:100% !important; }</style>\"))"
   ]
  },
  {
   "cell_type": "code",
   "execution_count": 1,
   "metadata": {},
   "outputs": [],
   "source": [
    "from __future__ import print_function\n",
    "import cv2\n",
    "import numpy as np\n",
    "import pandas as pd\n",
    "import matplotlib.pyplot as plt\n",
    "import seaborn as sns\n",
    "import os\n",
    "import glob\n",
    "\n",
    "colors = np.array([[175, 33, 8],\n",
    "                   [20, 145, 4],\n",
    "                   [177, 11, 237],\n",
    "                   [14, 187, 235],\n",
    "                   [3, 102, 163],\n",
    "                   [0,0,0]\n",
    "                  ])"
   ]
  },
  {
   "cell_type": "code",
   "execution_count": 7,
   "metadata": {
    "collapsed": true
   },
   "outputs": [
    {
     "name": "stdout",
     "output_type": "stream",
     "text": [
      "-rw-rw-r-- 1 ing ing  14M May  6 01:32 ../densenet_small/10x/inference/TCGA-CH-5743-01Z-00-DX1.d775c0bd-8c32-45b1-a6d2-afd4e17ec649_prob.npy\r\n",
      "-rw-rw-r-- 1 ing ing  44M May  6 01:32 ../densenet_small/10x/inference/TCGA-CH-5744-01Z-00-DX1.ae8a6754-a41d-4227-b48c-0258d7bc500a_prob.npy\r\n",
      "-rw-rw-r-- 1 ing ing  12M May  6 01:32 ../densenet_small/10x/inference/TCGA-CH-5745-01Z-00-DX1.49835389-232e-4c7f-8550-1501b402d698_prob.npy\r\n",
      "-rw-rw-r-- 1 ing ing  29M May  6 01:32 ../densenet_small/10x/inference/TCGA-CH-5746-01Z-00-DX1.5d6bab11-b652-4730-80ee-7a0dc6bfc806_prob.npy\r\n",
      "-rw-rw-r-- 1 ing ing 8.7M May  6 01:33 ../densenet_small/10x/inference/TCGA-CH-5750-01Z-00-DX1.88db9d82-82c0-44b7-87b2-6e3bcdfb58ad_prob.npy\r\n",
      "-rw-rw-r-- 1 ing ing  31M May  6 01:33 ../densenet_small/10x/inference/TCGA-CH-5751-01Z-00-DX1.6bacc42c-0cc1-4210-80b4-14695e4c6ba2_prob.npy\r\n",
      "-rw-rw-r-- 1 ing ing  39M May  6 01:33 ../densenet_small/10x/inference/TCGA-CH-5753-01Z-00-DX1.c503402e-b8a1-471f-87fe-8aab40bec07a_prob.npy\r\n",
      "-rw-rw-r-- 1 ing ing  47M May  6 01:33 ../densenet_small/10x/inference/TCGA-CH-5754-01Z-00-DX1.4dae6511-baa2-4472-b625-a41c9c95dec8_prob.npy\r\n",
      "-rw-rw-r-- 1 ing ing  18M May  6 01:33 ../densenet_small/10x/inference/TCGA-CH-5762-01Z-00-DX1.13c73407-5fdb-4109-91df-a224a0a6dce2_prob.npy\r\n",
      "-rw-rw-r-- 1 ing ing  32M May  6 01:34 ../densenet_small/10x/inference/TCGA-EJ-7792-01Z-00-DX1.62662b7e-2130-4535-9ec4-3a5c9ce8dea0_prob.npy\r\n",
      "-rw-rw-r-- 1 ing ing  31M May  6 01:35 ../densenet_small/10x/inference/TCGA-EJ-7794-01Z-00-DX1.6c647aa0-664d-46b5-98d5-049763627857_prob.npy\r\n",
      "-rw-rw-r-- 1 ing ing  13M May  6 01:35 ../densenet_small/10x/inference/TCGA-FC-7708-01Z-00-DX1.393b7c70-fb4e-42cd-8725-ebab83a9400e_prob.npy\r\n",
      "-rw-rw-r-- 1 ing ing  43M May  6 01:36 ../densenet_small/10x/inference/TCGA-FC-A8O0-01Z-00-DX1.BBBC76A6-FA46-47EA-A727-71C99AD079FD_prob.npy\r\n",
      "-rw-rw-r-- 1 ing ing  38M May  6 01:37 ../densenet_small/10x/inference/TCGA-G9-A9S0-01Z-00-DX1.790729D2-1AF4-4ACF-A470-A9ADC786298E_prob.npy\r\n",
      "-rw-rw-r-- 1 ing ing  45M May  6 01:37 ../densenet_small/10x/inference/TCGA-G9-A9S4-01Z-00-DX1.847AD7EA-278E-4E78-9465-1CA8229017AA_prob.npy\r\n"
     ]
    }
   ],
   "source": [
    "!ls -lh ../densenet_small/10x/inference/*npy"
   ]
  },
  {
   "cell_type": "code",
   "execution_count": 9,
   "metadata": {
    "scrolled": true
   },
   "outputs": [
    {
     "name": "stdout",
     "output_type": "stream",
     "text": [
      "0 ../densenet_small/5x/inference/s10-3291-006_color.jpg Exists\n",
      "1 ../densenet_small/5x/inference/s10-6178-011_color.jpg Exists\n",
      "2 ../densenet_small/5x/inference/s13_5945-028_color.jpg Exists\n",
      "3 s12_8147-012_color.jpg\n",
      "4 ../densenet_small/5x/inference/s13-058-002_color.jpg Exists\n",
      "5 ../densenet_small/5x/inference/s13-4610-000_color.jpg Exists\n",
      "6 ../densenet_small/5x/inference/s10-6178-026_color.jpg Exists\n",
      "7 ../densenet_small/5x/inference/s10-6178-045_color.jpg Exists\n",
      "8 ../densenet_small/5x/inference/s10-3956-021_color.jpg Exists\n",
      "9 ../densenet_small/5x/inference/s10-6178-022_color.jpg Exists\n",
      "10 s12_8147-032_color.jpg\n",
      "11 ../densenet_small/5x/inference/s12-6768-008_color.jpg Exists\n",
      "12 ../densenet_small/5x/inference/s13_2243-003_color.jpg Exists\n",
      "13 ../densenet_small/5x/inference/s10-3956-004_color.jpg Exists\n",
      "14 ../densenet_small/5x/inference/s13_5945-021_color.jpg Exists\n",
      "15 ../densenet_small/5x/inference/s13_5945-040_color.jpg Exists\n",
      "16 ../densenet_small/5x/inference/s13-3431-002_color.jpg Exists\n",
      "17 ../densenet_small/5x/inference/s13-058-017_color.jpg Exists\n",
      "18 ../densenet_small/5x/inference/s10-6178-032_color.jpg Exists\n",
      "19 ../densenet_small/5x/inference/s10-3220-033_color.jpg Exists\n",
      "20 ../densenet_small/5x/inference/s12_8147-024_color.jpg Exists\n",
      "21 ../densenet_small/5x/inference/s12-444-017_color.jpg Exists\n",
      "22 s10-3220-034_color.jpg\n",
      "23 ../densenet_small/5x/inference/s10-6178-041_color.jpg Exists\n",
      "24 ../densenet_small/5x/inference/s10-6178-035_color.jpg Exists\n",
      "25 ../densenet_small/5x/inference/s12-444-015_color.jpg Exists\n",
      "26 ../densenet_small/5x/inference/s12-3216-013_color.jpg Exists\n",
      "27 ../densenet_small/5x/inference/s10-5477-006_color.jpg Exists\n",
      "28 ../densenet_small/5x/inference/s10-4583-000_color.jpg Exists\n",
      "29 ../densenet_small/5x/inference/s10-3220-002_color.jpg Exists\n",
      "30 ../densenet_small/5x/inference/s12-3216-010_color.jpg Exists\n",
      "31 ../densenet_small/5x/inference/s13_5945-011_color.jpg Exists\n",
      "32 s12-1932-000_color.jpg\n",
      "33 ../densenet_small/5x/inference/s13_5945-032_color.jpg Exists\n",
      "34 ../densenet_small/5x/inference/s10-4583-002_color.jpg Exists\n",
      "35 ../densenet_small/5x/inference/s13-058-001_color.jpg Exists\n",
      "36 s12_8147-034_color.jpg\n",
      "37 ../densenet_small/5x/inference/s13_2243-023_color.jpg Exists\n",
      "38 ../densenet_small/5x/inference/s13-4610-002_color.jpg Exists\n",
      "39 ../densenet_small/5x/inference/s13_5945-009_color.jpg Exists\n",
      "40 ../densenet_small/5x/inference/s13-4610-001_color.jpg Exists\n",
      "41 ../densenet_small/5x/inference/s10-6178-030_color.jpg Exists\n",
      "42 ../densenet_small/5x/inference/s10-3220-016_color.jpg Exists\n",
      "43 ../densenet_small/5x/inference/s10-4583-032_color.jpg Exists\n",
      "44 s12_8147-003_color.jpg\n",
      "45 ../densenet_small/5x/inference/s10-3220-011_color.jpg Exists\n",
      "46 ../densenet_small/5x/inference/s12-7902-009_color.jpg Exists\n",
      "47 ../densenet_small/5x/inference/s13_5945-026_color.jpg Exists\n",
      "48 ../densenet_small/5x/inference/s10-4583-016_color.jpg Exists\n",
      "49 ../densenet_small/5x/inference/s13_5945-003_color.jpg Exists\n",
      "50 ../densenet_small/5x/inference/s12_8147-027_color.jpg Exists\n",
      "51 ../densenet_small/5x/inference/s13-3431-010_color.jpg Exists\n",
      "52 ../densenet_small/5x/inference/s12_8147-002_color.jpg Exists\n",
      "53 ../densenet_small/5x/inference/s13-3431-011_color.jpg Exists\n",
      "54 ../densenet_small/5x/inference/s12_8147-005_color.jpg Exists\n",
      "55 ../densenet_small/5x/inference/s10-4583-008_color.jpg Exists\n",
      "56 ../densenet_small/5x/inference/s10-3291-011_color.jpg Exists\n",
      "57 ../densenet_small/5x/inference/s13-3431-003_color.jpg Exists\n",
      "58 ../densenet_small/5x/inference/s10-4510-002_color.jpg Exists\n",
      "59 ../densenet_small/5x/inference/s12_1823-012_color.jpg Exists\n",
      "60 ../densenet_small/5x/inference/s10-3956-040_color.jpg Exists\n",
      "61 ../densenet_small/5x/inference/s12-6575-008_color.jpg Exists\n",
      "62 ../densenet_small/5x/inference/s12-444-006_color.jpg Exists\n",
      "63 ../densenet_small/5x/inference/s13_5945-019_color.jpg Exists\n",
      "64 ../densenet_small/5x/inference/s10-3319-002_color.jpg Exists\n",
      "65 ../densenet_small/5x/inference/s10-5477-020_color.jpg Exists\n",
      "66 ../densenet_small/5x/inference/s12_1823-003_color.jpg Exists\n",
      "67 ../densenet_small/5x/inference/s10-4583-048_color.jpg Exists\n",
      "68 ../densenet_small/5x/inference/s10-3220-018_color.jpg Exists\n",
      "69 ../densenet_small/5x/inference/s10-4583-042_color.jpg Exists\n",
      "70 ../densenet_small/5x/inference/s12_8147-018_color.jpg Exists\n",
      "71 ../densenet_small/5x/inference/s12_8147-011_color.jpg Exists\n",
      "72 ../densenet_small/5x/inference/s12-7549-008_color.jpg Exists\n",
      "73 ../densenet_small/5x/inference/s12-6456-005_color.jpg Exists\n",
      "74 ../densenet_small/5x/inference/s13_2243-026_color.jpg Exists\n",
      "75 ../densenet_small/5x/inference/s13-4610-004_color.jpg Exists\n",
      "76 ../densenet_small/5x/inference/s13_5945-041_color.jpg Exists\n",
      "77 ../densenet_small/5x/inference/s13-058-014_color.jpg Exists\n",
      "78 ../densenet_small/5x/inference/s13_2243-016_color.jpg Exists\n",
      "79 ../densenet_small/5x/inference/s13_2243-006_color.jpg Exists\n"
     ]
    }
   ],
   "source": [
    "inf_list = glob.glob('../densenet_small/5x/inference/*npy')\n",
    "# inf_list = glob.glob('../tfhub/inference/inception_v3/*npy')\n",
    "for n, inf_path in enumerate(inf_list):\n",
    "    inf_out = inf_path.replace('prob.npy', 'color.jpg')\n",
    "    if os.path.exists(inf_out):\n",
    "        print('{} {} Exists'.format(n, inf_out))\n",
    "        continue\n",
    "        \n",
    "    x = np.load(inf_path)\n",
    "\n",
    "    mask = np.zeros(list(x.shape[:2])+[3], dtype=np.uint8) \n",
    "    xsum = np.sum(x, axis=-1)\n",
    "    amax = np.argmax(x, axis=-1)\n",
    "    amax[xsum < 1.-1e-3] = 5\n",
    "\n",
    "    for k in range(5):\n",
    "        mask[amax==k] = colors[k,:]\n",
    "\n",
    "    print(n, os.path.basename(inf_out))\n",
    "    cv2.imwrite(inf_out, mask[:,:,::-1])"
   ]
  },
  {
   "cell_type": "code",
   "execution_count": null,
   "metadata": {},
   "outputs": [],
   "source": [
    "\n"
   ]
  }
 ],
 "metadata": {
  "kernelspec": {
   "display_name": "Python 2",
   "language": "python",
   "name": "python2"
  },
  "language_info": {
   "codemirror_mode": {
    "name": "ipython",
    "version": 2
   },
   "file_extension": ".py",
   "mimetype": "text/x-python",
   "name": "python",
   "nbconvert_exporter": "python",
   "pygments_lexer": "ipython2",
   "version": "2.7.12"
  }
 },
 "nbformat": 4,
 "nbformat_minor": 2
}
