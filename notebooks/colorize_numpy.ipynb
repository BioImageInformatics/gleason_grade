{
 "cells": [
  {
   "cell_type": "code",
   "execution_count": 1,
   "metadata": {},
   "outputs": [
    {
     "data": {
      "text/html": [
       "<style>.container { width:100% !important; }</style>"
      ],
      "text/plain": [
       "<IPython.core.display.HTML object>"
      ]
     },
     "metadata": {},
     "output_type": "display_data"
    }
   ],
   "source": [
    "from IPython.core.display import display, HTML\n",
    "display(HTML(\"<style>.container { width:100% !important; }</style>\"))"
   ]
  },
  {
   "cell_type": "code",
   "execution_count": 2,
   "metadata": {},
   "outputs": [],
   "source": [
    "from __future__ import print_function\n",
    "import cv2\n",
    "import numpy as np\n",
    "import pandas as pd\n",
    "import matplotlib.pyplot as plt\n",
    "import seaborn as sns\n",
    "import os\n",
    "import glob\n",
    "\n",
    "colors = np.array([[175, 33, 8],\n",
    "                   [20, 145, 4],\n",
    "                   [177, 11, 237],\n",
    "                   [14, 187, 235],\n",
    "                   [3, 102, 163],\n",
    "                   [0,0,0]\n",
    "                  ])"
   ]
  },
  {
   "cell_type": "code",
   "execution_count": 6,
   "metadata": {
    "scrolled": true
   },
   "outputs": [
    {
     "name": "stdout",
     "output_type": "stream",
     "text": [
      "0 ../densenet/ext_10x/durham_val/s10-3220-030_color.jpg\n",
      "1 ../densenet/ext_10x/durham_val/s10-3291-009_color.jpg\n",
      "2 ../densenet/ext_10x/durham_val/s10-3319-009_color.jpg\n",
      "3 ../densenet/ext_10x/durham_val/s10-3319-012_color.jpg\n",
      "4 ../densenet/ext_10x/durham_val/s10-3956-034_color.jpg\n",
      "5 ../densenet/ext_10x/durham_val/s10-4510-001_color.jpg\n",
      "6 ../densenet/ext_10x/durham_val/s10-4583-012_color.jpg\n",
      "7 ../densenet/ext_10x/durham_val/s10-5477-001_color.jpg\n",
      "8 ../densenet/ext_10x/durham_val/s10-586-000_color.jpg\n",
      "9 ../densenet/ext_10x/durham_val/s10-6178-047_color.jpg\n",
      "10 ../densenet/ext_10x/durham_val/s12-1932-001_color.jpg\n",
      "11 ../densenet/ext_10x/durham_val/s12-3216-004_color.jpg\n",
      "12 ../densenet/ext_10x/durham_val/s12-444-003_color.jpg\n",
      "13 ../densenet/ext_10x/durham_val/s12-444-004_color.jpg\n",
      "14 ../densenet/ext_10x/durham_val/s12-6456-002_color.jpg\n",
      "15 ../densenet/ext_10x/durham_val/s12-6575-007_color.jpg\n",
      "16 ../densenet/ext_10x/durham_val/s12-6768-003_color.jpg\n",
      "17 ../densenet/ext_10x/durham_val/s12-6768-004_color.jpg\n",
      "18 ../densenet/ext_10x/durham_val/s12-7549-001_color.jpg\n",
      "19 ../densenet/ext_10x/durham_val/s12-7902-003_color.jpg\n",
      "20 ../densenet/ext_10x/durham_val/s12_1823-012_color.jpg Exists\n",
      "21 ../densenet/ext_10x/durham_val/s12_8147-007_color.jpg\n",
      "22 ../densenet/ext_10x/durham_val/s12_8147-010_color.jpg Exists\n",
      "23 ../densenet/ext_10x/durham_val/s13-058-004_color.jpg\n",
      "24 ../densenet/ext_10x/durham_val/s13-059-000_color.jpg\n",
      "25 ../densenet/ext_10x/durham_val/s13-3170-005_color.jpg\n",
      "26 ../densenet/ext_10x/durham_val/s13-3431-008_color.jpg\n",
      "27 ../densenet/ext_10x/durham_val/s13-4610-003_color.jpg\n",
      "28 ../densenet/ext_10x/durham_val/s13-4610-004_color.jpg Exists\n",
      "29 ../densenet/ext_10x/durham_val/s13-5643-001_color.jpg\n",
      "30 ../densenet/ext_10x/durham_val/s13-764-001_color.jpg\n",
      "31 ../densenet/ext_10x/durham_val/s13_2243-015_color.jpg\n",
      "32 ../densenet/ext_10x/durham_val/s13_5945-026_color.jpg Exists\n",
      "33 ../densenet/ext_10x/durham_val/s13_5945-034_color.jpg\n"
     ]
    }
   ],
   "source": [
    "inf_list = glob.glob('../densenet/ext_10x/durham_val/*npy')  # Trained models\n",
    "# inf_list = glob.glob('../tfhub/inference/*/*.npy')  # Hub models\n",
    "for n, inf_path in enumerate(sorted(inf_list)):\n",
    "    inf_out = inf_path.replace('prob.npy', 'color.jpg')\n",
    "    if os.path.exists(inf_out):\n",
    "        print('{} {} Exists'.format(n, inf_out))\n",
    "        continue\n",
    "        \n",
    "    x = np.load(inf_path)\n",
    "\n",
    "    mask = np.zeros(list(x.shape[:2])+[3], dtype=np.uint8) \n",
    "    xsum = np.sum(x, axis=-1)\n",
    "    amax = np.argmax(x, axis=-1)\n",
    "    amax[xsum < 1.-1e-3] = 5\n",
    "\n",
    "    for k in range(5):\n",
    "        mask[amax==k] = colors[k,:]\n",
    "\n",
    "    print(n, inf_out)\n",
    "    cv2.imwrite(inf_out, mask[:,:,::-1])"
   ]
  },
  {
   "cell_type": "code",
   "execution_count": null,
   "metadata": {},
   "outputs": [],
   "source": []
  }
 ],
 "metadata": {
  "kernelspec": {
   "display_name": "Python 3",
   "language": "python",
   "name": "python3"
  },
  "language_info": {
   "codemirror_mode": {
    "name": "ipython",
    "version": 3
   },
   "file_extension": ".py",
   "mimetype": "text/x-python",
   "name": "python",
   "nbconvert_exporter": "python",
   "pygments_lexer": "ipython3",
   "version": "3.7.0"
  }
 },
 "nbformat": 4,
 "nbformat_minor": 2
}
