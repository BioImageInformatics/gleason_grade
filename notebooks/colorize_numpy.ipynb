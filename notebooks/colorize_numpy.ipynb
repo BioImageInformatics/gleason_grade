{
 "cells": [
  {
   "cell_type": "code",
   "execution_count": 24,
   "metadata": {},
   "outputs": [],
   "source": [
    "from __future__ import print_function\n",
    "import cv2\n",
    "import numpy as np\n",
    "import pandas as pd\n",
    "import matplotlib.pyplot as plt\n",
    "import seaborn as sns\n",
    "import os\n",
    "import glob\n",
    "\n",
    "colors = np.array([[175, 33, 8],\n",
    "                   [20, 145, 4],\n",
    "                   [177, 11, 237],\n",
    "                   [14, 187, 235],\n",
    "                   [3, 102, 163],\n",
    "                   [0,0,0]\n",
    "                  ])"
   ]
  },
  {
   "cell_type": "code",
   "execution_count": null,
   "metadata": {},
   "outputs": [
    {
     "name": "stdout",
     "output_type": "stream",
     "text": [
      "../unet/10x/inference/1305449_color.jpg\n",
      "../unet/10x/inference/1304700_color.jpg\n",
      "../unet/10x/inference/1305488_color.jpg\n",
      "../unet/10x/inference/1304704_color.jpg\n",
      "../unet/10x/inference/1305451_color.jpg\n",
      "../unet/10x/inference/1305489_color.jpg\n",
      "../unet/10x/inference/1305461_color.jpg\n",
      "../unet/10x/inference/1304722_color.jpg\n",
      "../unet/10x/inference/1305475_color.jpg\n",
      "../unet/10x/inference/1304702_color.jpg\n",
      "../unet/10x/inference/1305487_color.jpg\n",
      "../unet/10x/inference/1305474_color.jpg\n",
      "../unet/10x/inference/1304713_color.jpg\n",
      "../unet/10x/inference/1304725_color.jpg\n",
      "../unet/10x/inference/1304709_color.jpg\n",
      "../unet/10x/inference/1305485_color.jpg\n"
     ]
    }
   ],
   "source": [
    "inf_list = glob.glob('../unet/10x/inference/*npy')\n",
    "for inf_path in inf_list:\n",
    "    inf_out = inf_path.replace('prob.npy', 'color.jpg')\n",
    "    x = np.load(inf_path)\n",
    "\n",
    "    mask = np.zeros(list(x.shape[:2])+[3], dtype=np.uint8) \n",
    "    xsum = np.sum(x, axis=-1)\n",
    "    amax = np.argmax(x, axis=-1)\n",
    "    amax[xsum < 1.-1e-3] = 5\n",
    "\n",
    "    for k in range(5):\n",
    "        mask[amax==k] = colors[k,:]\n",
    "\n",
    "    print(inf_out)\n",
    "    cv2.imwrite(inf_out, mask[:,:,::-1])"
   ]
  },
  {
   "cell_type": "code",
   "execution_count": null,
   "metadata": {},
   "outputs": [],
   "source": [
    "\n"
   ]
  }
 ],
 "metadata": {
  "kernelspec": {
   "display_name": "tensorflow",
   "language": "python",
   "name": "tensorflow"
  },
  "language_info": {
   "codemirror_mode": {
    "name": "ipython",
    "version": 2
   },
   "file_extension": ".py",
   "mimetype": "text/x-python",
   "name": "python",
   "nbconvert_exporter": "python",
   "pygments_lexer": "ipython2",
   "version": "2.7.12"
  }
 },
 "nbformat": 4,
 "nbformat_minor": 2
}
