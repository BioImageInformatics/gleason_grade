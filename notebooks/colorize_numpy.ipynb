{
 "cells": [
  {
   "cell_type": "code",
   "execution_count": 1,
   "metadata": {},
   "outputs": [
    {
     "data": {
      "text/html": [
       "<style>.container { width:100% !important; }</style>"
      ],
      "text/plain": [
       "<IPython.core.display.HTML object>"
      ]
     },
     "metadata": {},
     "output_type": "display_data"
    }
   ],
   "source": [
    "from IPython.core.display import display, HTML\n",
    "display(HTML(\"<style>.container { width:100% !important; }</style>\"))"
   ]
  },
  {
   "cell_type": "code",
   "execution_count": 1,
   "metadata": {},
   "outputs": [],
   "source": [
    "from __future__ import print_function\n",
    "import cv2\n",
    "import numpy as np\n",
    "import pandas as pd\n",
    "import matplotlib.pyplot as plt\n",
    "import seaborn as sns\n",
    "import os\n",
    "import glob\n",
    "\n",
    "colors = np.array([[175, 33, 8],\n",
    "                   [20, 145, 4],\n",
    "                   [177, 11, 237],\n",
    "                   [14, 187, 235],\n",
    "                   [3, 102, 163],\n",
    "                   [0,0,0]\n",
    "                  ])"
   ]
  },
  {
   "cell_type": "code",
   "execution_count": 2,
   "metadata": {
    "scrolled": true
   },
   "outputs": [
    {
     "name": "stdout",
     "output_type": "stream",
     "text": [
      "0 1305449_color.jpg\n",
      "1 1304700_color.jpg\n",
      "2 1304706_color.jpg\n",
      "3 1305445_color.jpg\n",
      "4 1305488_color.jpg\n",
      "5 1304704_color.jpg\n",
      "6 1305451_color.jpg\n",
      "7 1304719_color.jpg\n",
      "8 1305489_color.jpg\n",
      "9 1305496_color.jpg\n",
      "10 1305461_color.jpg\n",
      "11 1304722_color.jpg\n",
      "12 1305475_color.jpg\n",
      "13 1304702_color.jpg\n",
      "14 1305487_color.jpg\n",
      "15 1305474_color.jpg\n",
      "16 1304713_color.jpg\n",
      "17 1304718_color.jpg\n",
      "18 1305444_color.jpg\n",
      "19 1304725_color.jpg\n",
      "20 1304709_color.jpg\n",
      "21 1305483_color.jpg\n",
      "22 1305485_color.jpg\n",
      "23 1305472_color.jpg\n",
      "24 1305456_color.jpg\n",
      "25 1305452_color.jpg\n",
      "26 1305476_color.jpg\n",
      "27 1305497_color.jpg\n",
      "28 1305480_color.jpg\n",
      "29 1304716_color.jpg\n",
      "30 1305498_color.jpg\n",
      "31 1305491_color.jpg\n",
      "32 1304726_color.jpg\n",
      "33 1305450_color.jpg\n",
      "34 1304730_color.jpg\n",
      "35 1304728_color.jpg\n",
      "36 1305477_color.jpg\n",
      "37 1305479_color.jpg\n",
      "38 1304705_color.jpg\n",
      "39 1305490_color.jpg\n",
      "40 1304701_color.jpg\n",
      "41 1305460_color.jpg\n",
      "42 1305455_color.jpg\n",
      "43 1305473_color.jpg\n",
      "44 1304723_color.jpg\n",
      "45 1305484_color.jpg\n",
      "46 1305454_color.jpg\n",
      "47 1305457_color.jpg\n",
      "48 1304715_color.jpg\n",
      "49 1305493_color.jpg\n",
      "50 1304721_color.jpg\n",
      "51 1305446_color.jpg\n",
      "52 1304727_color.jpg\n",
      "53 1305494_color.jpg\n",
      "54 1304720_color.jpg\n",
      "55 1305495_color.jpg\n",
      "56 1305453_color.jpg\n",
      "57 1304703_color.jpg\n",
      "58 1304712_color.jpg\n",
      "59 1304717_color.jpg\n",
      "60 1304711_color.jpg\n",
      "61 1305448_color.jpg\n",
      "62 1305447_color.jpg\n",
      "63 1305481_color.jpg\n",
      "64 1305458_color.jpg\n",
      "65 1305459_color.jpg\n",
      "66 1305482_color.jpg\n",
      "67 1305478_color.jpg\n",
      "68 1304729_color.jpg\n",
      "69 1304732_color.jpg\n"
     ]
    }
   ],
   "source": [
    "inf_list = glob.glob('../densenet/5x/inference/*npy')\n",
    "# inf_list = glob.glob('../tfhub/inference/inception_v3/*npy')\n",
    "for n, inf_path in enumerate(inf_list):\n",
    "    inf_out = inf_path.replace('prob.npy', 'color.jpg')\n",
    "    if os.path.exists(inf_out):\n",
    "        print('{} {} Exists'.format(n, inf_out))\n",
    "        continue\n",
    "        \n",
    "    x = np.load(inf_path)\n",
    "\n",
    "    mask = np.zeros(list(x.shape[:2])+[3], dtype=np.uint8) \n",
    "    xsum = np.sum(x, axis=-1)\n",
    "    amax = np.argmax(x, axis=-1)\n",
    "    amax[xsum < 1.-1e-3] = 5\n",
    "\n",
    "    for k in range(5):\n",
    "        mask[amax==k] = colors[k,:]\n",
    "\n",
    "    print(n, os.path.basename(inf_out))\n",
    "    cv2.imwrite(inf_out, mask[:,:,::-1])"
   ]
  },
  {
   "cell_type": "code",
   "execution_count": null,
   "metadata": {},
   "outputs": [],
   "source": [
    "\n"
   ]
  }
 ],
 "metadata": {
  "kernelspec": {
   "display_name": "Python 2",
   "language": "python",
   "name": "python2"
  },
  "language_info": {
   "codemirror_mode": {
    "name": "ipython",
    "version": 2
   },
   "file_extension": ".py",
   "mimetype": "text/x-python",
   "name": "python",
   "nbconvert_exporter": "python",
   "pygments_lexer": "ipython2",
   "version": "2.7.12"
  }
 },
 "nbformat": 4,
 "nbformat_minor": 2
}
