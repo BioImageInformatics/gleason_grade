{
 "cells": [
  {
   "cell_type": "code",
   "execution_count": 2,
   "metadata": {},
   "outputs": [
    {
     "name": "stdout",
     "output_type": "stream",
     "text": [
      "/home/nathan/miniconda3/envs/milk/bin/python\n"
     ]
    }
   ],
   "source": [
    "import sys\n",
    "print(sys.executable)"
   ]
  },
  {
   "cell_type": "code",
   "execution_count": 1,
   "metadata": {},
   "outputs": [
    {
     "data": {
      "text/html": [
       "<style>.container { width:100% !important; }</style>"
      ],
      "text/plain": [
       "<IPython.core.display.HTML object>"
      ]
     },
     "metadata": {},
     "output_type": "display_data"
    }
   ],
   "source": [
    "from IPython.core.display import display, HTML\n",
    "display(HTML(\"<style>.container { width:100% !important; }</style>\"))"
   ]
  },
  {
   "cell_type": "code",
   "execution_count": 10,
   "metadata": {},
   "outputs": [],
   "source": [
    "from __future__ import print_function\n",
    "import cv2\n",
    "import numpy as np\n",
    "import pandas as pd\n",
    "import matplotlib.pyplot as plt\n",
    "import seaborn as sns\n",
    "import os\n",
    "import glob\n",
    "\n",
    "# colors = np.array([[175, 33, 8],\n",
    "#                    [20, 145, 4],\n",
    "#                    [177, 11, 237],\n",
    "#                    [14, 187, 235],\n",
    "#                    [3, 102, 163],\n",
    "#                    [0,0,0]\n",
    "#                   ])\n",
    "\n",
    "colors = np.array([[239, 188, 57], # Orange\n",
    "                   [198, 27, 27],  # Red\n",
    "                   [198, 27, 27],  # Red\n",
    "                   [11, 147, 8], # Green\n",
    "                   [80, 81, 80],# Gray\n",
    "                   [0,0,0],\n",
    "                  ])"
   ]
  },
  {
   "cell_type": "code",
   "execution_count": 13,
   "metadata": {
    "scrolled": true
   },
   "outputs": [
    {
     "name": "stdout",
     "output_type": "stream",
     "text": [
      "0 ../tfhub/inference/mobilenet_v2_050_224_75pct/1304700_color.jpg\n",
      "1 ../tfhub/inference/mobilenet_v2_050_224_75pct/1304701_color.jpg\n",
      "2 ../tfhub/inference/mobilenet_v2_050_224_75pct/1304702_color.jpg\n",
      "3 ../tfhub/inference/mobilenet_v2_050_224_75pct/1304703_color.jpg\n",
      "4 ../tfhub/inference/mobilenet_v2_050_224_75pct/1304704_color.jpg\n",
      "5 ../tfhub/inference/mobilenet_v2_050_224_75pct/1304705_color.jpg\n",
      "6 ../tfhub/inference/mobilenet_v2_050_224_75pct/1304706_color.jpg\n",
      "7 ../tfhub/inference/mobilenet_v2_050_224_75pct/1304709_color.jpg\n",
      "8 ../tfhub/inference/mobilenet_v2_050_224_75pct/1304711_color.jpg\n",
      "9 ../tfhub/inference/mobilenet_v2_050_224_75pct/1304712_color.jpg\n",
      "10 ../tfhub/inference/mobilenet_v2_050_224_75pct/1304713_color.jpg\n",
      "11 ../tfhub/inference/mobilenet_v2_050_224_75pct/1304715_color.jpg\n",
      "12 ../tfhub/inference/mobilenet_v2_050_224_75pct/1304716_color.jpg\n",
      "13 ../tfhub/inference/mobilenet_v2_050_224_75pct/1304717_color.jpg\n",
      "14 ../tfhub/inference/mobilenet_v2_050_224_75pct/1304718_color.jpg\n",
      "15 ../tfhub/inference/mobilenet_v2_050_224_75pct/1304719_color.jpg\n",
      "16 ../tfhub/inference/mobilenet_v2_050_224_75pct/1304720_color.jpg\n",
      "17 ../tfhub/inference/mobilenet_v2_050_224_75pct/1304721_color.jpg\n",
      "18 ../tfhub/inference/mobilenet_v2_050_224_75pct/1304722_color.jpg\n",
      "19 ../tfhub/inference/mobilenet_v2_050_224_75pct/1304723_color.jpg\n",
      "20 ../tfhub/inference/mobilenet_v2_050_224_75pct/1304725_color.jpg\n",
      "21 ../tfhub/inference/mobilenet_v2_050_224_75pct/1304726_color.jpg\n",
      "22 ../tfhub/inference/mobilenet_v2_050_224_75pct/1304727_color.jpg\n",
      "23 ../tfhub/inference/mobilenet_v2_050_224_75pct/1304728_color.jpg\n",
      "24 ../tfhub/inference/mobilenet_v2_050_224_75pct/1304729_color.jpg\n",
      "25 ../tfhub/inference/mobilenet_v2_050_224_75pct/1304730_color.jpg\n",
      "26 ../tfhub/inference/mobilenet_v2_050_224_75pct/1304732_color.jpg\n",
      "27 ../tfhub/inference/mobilenet_v2_050_224_75pct/1305444_color.jpg\n",
      "28 ../tfhub/inference/mobilenet_v2_050_224_75pct/1305445_color.jpg\n",
      "29 ../tfhub/inference/mobilenet_v2_050_224_75pct/1305446_color.jpg\n",
      "30 ../tfhub/inference/mobilenet_v2_050_224_75pct/1305447_color.jpg\n",
      "31 ../tfhub/inference/mobilenet_v2_050_224_75pct/1305448_color.jpg\n",
      "32 ../tfhub/inference/mobilenet_v2_050_224_75pct/1305449_color.jpg\n",
      "33 ../tfhub/inference/mobilenet_v2_050_224_75pct/1305450_color.jpg\n",
      "34 ../tfhub/inference/mobilenet_v2_050_224_75pct/1305451_color.jpg\n",
      "35 ../tfhub/inference/mobilenet_v2_050_224_75pct/1305452_color.jpg\n",
      "36 ../tfhub/inference/mobilenet_v2_050_224_75pct/1305453_color.jpg\n",
      "37 ../tfhub/inference/mobilenet_v2_050_224_75pct/1305454_color.jpg\n",
      "38 ../tfhub/inference/mobilenet_v2_050_224_75pct/1305455_color.jpg\n",
      "39 ../tfhub/inference/mobilenet_v2_050_224_75pct/1305456_color.jpg\n",
      "40 ../tfhub/inference/mobilenet_v2_050_224_75pct/1305457_color.jpg\n",
      "41 ../tfhub/inference/mobilenet_v2_050_224_75pct/1305458_color.jpg\n",
      "42 ../tfhub/inference/mobilenet_v2_050_224_75pct/1305459_color.jpg\n",
      "43 ../tfhub/inference/mobilenet_v2_050_224_75pct/1305460_color.jpg\n",
      "44 ../tfhub/inference/mobilenet_v2_050_224_75pct/1305461_color.jpg\n",
      "45 ../tfhub/inference/mobilenet_v2_050_224_75pct/1305472_color.jpg\n",
      "46 ../tfhub/inference/mobilenet_v2_050_224_75pct/1305473_color.jpg\n",
      "47 ../tfhub/inference/mobilenet_v2_050_224_75pct/1305474_color.jpg\n",
      "48 ../tfhub/inference/mobilenet_v2_050_224_75pct/1305475_color.jpg\n",
      "49 ../tfhub/inference/mobilenet_v2_050_224_75pct/1305476_color.jpg\n",
      "50 ../tfhub/inference/mobilenet_v2_050_224_75pct/1305477_color.jpg\n",
      "51 ../tfhub/inference/mobilenet_v2_050_224_75pct/1305478_color.jpg\n",
      "52 ../tfhub/inference/mobilenet_v2_050_224_75pct/1305479_color.jpg\n",
      "53 ../tfhub/inference/mobilenet_v2_050_224_75pct/1305480_color.jpg\n",
      "54 ../tfhub/inference/mobilenet_v2_050_224_75pct/1305481_color.jpg\n",
      "55 ../tfhub/inference/mobilenet_v2_050_224_75pct/1305482_color.jpg\n",
      "56 ../tfhub/inference/mobilenet_v2_050_224_75pct/1305483_color.jpg\n",
      "57 ../tfhub/inference/mobilenet_v2_050_224_75pct/1305484_color.jpg\n",
      "58 ../tfhub/inference/mobilenet_v2_050_224_75pct/1305485_color.jpg\n",
      "59 ../tfhub/inference/mobilenet_v2_050_224_75pct/1305487_color.jpg\n",
      "60 ../tfhub/inference/mobilenet_v2_050_224_75pct/1305488_color.jpg\n",
      "61 ../tfhub/inference/mobilenet_v2_050_224_75pct/1305489_color.jpg\n",
      "62 ../tfhub/inference/mobilenet_v2_050_224_75pct/1305490_color.jpg\n",
      "63 ../tfhub/inference/mobilenet_v2_050_224_75pct/1305491_color.jpg\n",
      "64 ../tfhub/inference/mobilenet_v2_050_224_75pct/1305493_color.jpg\n",
      "65 ../tfhub/inference/mobilenet_v2_050_224_75pct/1305494_color.jpg\n",
      "66 ../tfhub/inference/mobilenet_v2_050_224_75pct/1305495_color.jpg\n",
      "67 ../tfhub/inference/mobilenet_v2_050_224_75pct/1305496_color.jpg\n",
      "68 ../tfhub/inference/mobilenet_v2_050_224_75pct/1305497_color.jpg\n",
      "69 ../tfhub/inference/mobilenet_v2_050_224_75pct/1305498_color.jpg\n",
      "70 ../tfhub/inference/mobilenet_v2_050_224_75pct/s10-3220-030_color.jpg\n",
      "71 ../tfhub/inference/mobilenet_v2_050_224_75pct/s10-3291-009_color.jpg\n",
      "72 ../tfhub/inference/mobilenet_v2_050_224_75pct/s10-3319-009_color.jpg\n",
      "73 ../tfhub/inference/mobilenet_v2_050_224_75pct/s10-3319-012_color.jpg\n",
      "74 ../tfhub/inference/mobilenet_v2_050_224_75pct/s10-3956-034_color.jpg\n",
      "75 ../tfhub/inference/mobilenet_v2_050_224_75pct/s10-4510-001_color.jpg\n",
      "76 ../tfhub/inference/mobilenet_v2_050_224_75pct/s10-4583-012_color.jpg\n",
      "77 ../tfhub/inference/mobilenet_v2_050_224_75pct/s10-5477-001_color.jpg\n",
      "78 ../tfhub/inference/mobilenet_v2_050_224_75pct/s10-586-000_color.jpg\n",
      "79 ../tfhub/inference/mobilenet_v2_050_224_75pct/s10-6178-047_color.jpg\n",
      "80 ../tfhub/inference/mobilenet_v2_050_224_75pct/s12-1932-001_color.jpg\n",
      "81 ../tfhub/inference/mobilenet_v2_050_224_75pct/s12-3216-004_color.jpg\n",
      "82 ../tfhub/inference/mobilenet_v2_050_224_75pct/s12-444-003_color.jpg\n",
      "83 ../tfhub/inference/mobilenet_v2_050_224_75pct/s12-444-004_color.jpg\n",
      "84 ../tfhub/inference/mobilenet_v2_050_224_75pct/s12-6456-002_color.jpg\n",
      "85 ../tfhub/inference/mobilenet_v2_050_224_75pct/s12-6575-007_color.jpg\n",
      "86 ../tfhub/inference/mobilenet_v2_050_224_75pct/s12-6768-003_color.jpg\n",
      "87 ../tfhub/inference/mobilenet_v2_050_224_75pct/s12-6768-004_color.jpg\n",
      "88 ../tfhub/inference/mobilenet_v2_050_224_75pct/s12-7549-001_color.jpg\n",
      "89 ../tfhub/inference/mobilenet_v2_050_224_75pct/s12-7902-003_color.jpg\n",
      "90 ../tfhub/inference/mobilenet_v2_050_224_75pct/s12_1823-012_color.jpg\n",
      "91 ../tfhub/inference/mobilenet_v2_050_224_75pct/s12_8147-007_color.jpg\n",
      "92 ../tfhub/inference/mobilenet_v2_050_224_75pct/s12_8147-010_color.jpg\n",
      "93 ../tfhub/inference/mobilenet_v2_050_224_75pct/s13-058-004_color.jpg\n",
      "94 ../tfhub/inference/mobilenet_v2_050_224_75pct/s13-059-000_color.jpg\n",
      "95 ../tfhub/inference/mobilenet_v2_050_224_75pct/s13-3170-005_color.jpg\n",
      "96 ../tfhub/inference/mobilenet_v2_050_224_75pct/s13-3431-008_color.jpg\n",
      "97 ../tfhub/inference/mobilenet_v2_050_224_75pct/s13-4610-003_color.jpg\n",
      "98 ../tfhub/inference/mobilenet_v2_050_224_75pct/s13-4610-004_color.jpg\n",
      "99 ../tfhub/inference/mobilenet_v2_050_224_75pct/s13-5643-001_color.jpg\n",
      "100 ../tfhub/inference/mobilenet_v2_050_224_75pct/s13-764-001_color.jpg\n",
      "101 ../tfhub/inference/mobilenet_v2_050_224_75pct/s13_2243-015_color.jpg\n",
      "102 ../tfhub/inference/mobilenet_v2_050_224_75pct/s13_5945-026_color.jpg\n",
      "103 ../tfhub/inference/mobilenet_v2_050_224_75pct/s13_5945-034_color.jpg\n"
     ]
    }
   ],
   "source": [
    "# inf_list = glob.glob('../densenet_small/ext_75pct/inference/*npy')  # Trained models\n",
    "# colors = np.array([[239, 188, 57], # Orange\n",
    "#                    [198, 27, 27],  # Red\n",
    "#                    [198, 27, 27],  # Red\n",
    "#                    [11, 147, 8], # Green\n",
    "#                    [80, 81, 80],# Gray\n",
    "#                    [0,0,0],\n",
    "#                   ])\n",
    "\n",
    "inf_list = glob.glob('../tfhub/inference/mobilenet_v2_050_224_75pct/*.npy')  # Hub models\n",
    "colors = np.array([[239, 188, 57], # Orange\n",
    "                   [198, 27, 27],  # Red\n",
    "                   [11, 147, 8], # Green\n",
    "                   [80, 81, 80],# Gray\n",
    "                   [0,0,0],\n",
    "                  ])\n",
    "\n",
    "for n, inf_path in enumerate(sorted(inf_list)):\n",
    "    inf_out = inf_path.replace('prob.npy', 'color.jpg')\n",
    "    \n",
    "#     if os.path.exists(inf_out):\n",
    "#         print('{} {} Exists'.format(n, inf_out))\n",
    "#         continue\n",
    "        \n",
    "    x = np.load(inf_path)\n",
    "\n",
    "    mask = np.zeros(list(x.shape[:2])+[3], dtype=np.uint8) \n",
    "    xsum = np.sum(x, axis=-1)\n",
    "    amax = np.argmax(x, axis=-1)\n",
    "    amax[xsum < 1.-1e-3] = 5\n",
    "\n",
    "    for k in range(5):\n",
    "        mask[amax==k] = colors[k,:]\n",
    "\n",
    "    print(n, inf_out)\n",
    "    cv2.imwrite(inf_out, mask[:,:,::-1])"
   ]
  },
  {
   "cell_type": "code",
   "execution_count": null,
   "metadata": {},
   "outputs": [],
   "source": []
  }
 ],
 "metadata": {
  "kernelspec": {
   "display_name": "Python 3",
   "language": "python",
   "name": "python3"
  },
  "language_info": {
   "codemirror_mode": {
    "name": "ipython",
    "version": 3
   },
   "file_extension": ".py",
   "mimetype": "text/x-python",
   "name": "python",
   "nbconvert_exporter": "python",
   "pygments_lexer": "ipython3",
   "version": "3.6.8"
  }
 },
 "nbformat": 4,
 "nbformat_minor": 2
}
