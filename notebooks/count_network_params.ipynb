{
 "cells": [
  {
   "cell_type": "code",
   "execution_count": 1,
   "metadata": {},
   "outputs": [],
   "source": [
    "from __future__ import print_function\n",
    "import tensorflow as tf\n",
    "import numpy as np\n",
    "import sys\n",
    "import os\n",
    "import glob\n",
    "\n",
    "config = tf.ConfigProto( device_count = {'GPU': 0} )"
   ]
  },
  {
   "cell_type": "code",
   "execution_count": 2,
   "metadata": {},
   "outputs": [],
   "source": [
    "sys.path.insert(0, '..')\n",
    "from fcn8s_small import Inference"
   ]
  },
  {
   "cell_type": "code",
   "execution_count": 3,
   "metadata": {},
   "outputs": [
    {
     "name": "stdout",
     "output_type": "stream",
     "text": [
      "Setting up fcn in inference mode\n",
      "FCN Model\n",
      "Non-linearity: <function selu at 0x7f3039063f50>\n",
      "\t x_in (?, 256, 256, 3)\n",
      "\t c0_pool (?, 128, 128, 32)\n",
      "\t c1_pool (?, 64, 64, 32)\n",
      "\t c2_pool (?, 32, 32, 64)\n",
      "\t c3_pool (?, 16, 16, 128)\n",
      "\t c4_pool (?, 4, 4, 256)\n",
      "\t fc_1 (?, 1, 1, 1024)\n",
      "\t fc_2 (?, 1, 1, 1024)\n",
      "\t score_fr (?, 1, 1, 5)\n",
      "\t prediction_3 (?, 16, 16, 5)\n",
      "\t prediction_2 (?, 32, 32, 5)\n",
      "\t prediction_1 (?, 64, 64, 5)\n",
      "\t prediction_0 (?, 128, 128, 5)\n",
      "\t upscore3 (?, 16, 16, 5)\n",
      "\t upscore3_fuse (?, 16, 16, 5)\n",
      "\t upscore2 (?, 32, 32, 5)\n",
      "\t upscore2_fuse (?, 32, 32, 5)\n",
      "\t upscore1 (?, 64, 64, 5)\n",
      "\t upscore1_fuse (?, 64, 64, 5)\n",
      "\t upscore0 (?, 128, 128, 5)\n",
      "\t upscore0_fuse (?, 128, 128, 5)\n",
      "\t y_hat (?, 256, 256, 5)\n",
      "Model output y_hat: (?, 256, 256, 5)\n"
     ]
    }
   ],
   "source": [
    "sess = tf.Session(config=config)\n",
    "model = Inference(sess=sess, x_dims=[256, 256, 3])"
   ]
  },
  {
   "cell_type": "code",
   "execution_count": 4,
   "metadata": {
    "scrolled": false
   },
   "outputs": [
    {
     "name": "stdout",
     "output_type": "stream",
     "text": [
      "fcn/c0_0/w:0 (3, 3, 3, 32) 864\n",
      "fcn/c0_0/b:0 (32,) 32\n",
      "fcn/c1_0/w:0 (3, 3, 32, 32) 9216\n",
      "fcn/c1_0/b:0 (32,) 32\n",
      "fcn/c2_0/w:0 (3, 3, 32, 64) 18432\n",
      "fcn/c2_0/b:0 (64,) 64\n",
      "fcn/c3_0/w:0 (3, 3, 64, 128) 73728\n",
      "fcn/c3_0/b:0 (128,) 128\n",
      "fcn/c4_0/w:0 (3, 3, 128, 256) 294912\n",
      "fcn/c4_0/b:0 (256,) 256\n",
      "fcn/fc_1/w:0 (4, 4, 256, 1024) 4194304\n",
      "fcn/fc_1/b:0 (1024,) 1024\n",
      "fcn/fc_2/w:0 (1, 1, 1024, 1024) 1048576\n",
      "fcn/fc_2/b:0 (1024,) 1024\n",
      "fcn/score_fr/w:0 (4, 4, 1024, 5) 81920\n",
      "fcn/score_fr/b:0 (5,) 5\n",
      "fcn/pred3/w:0 (4, 4, 128, 5) 10240\n",
      "fcn/pred3/b:0 (5,) 5\n",
      "fcn/pred2/w:0 (4, 4, 64, 5) 5120\n",
      "fcn/pred2/b:0 (5,) 5\n",
      "fcn/pred1/w:0 (4, 4, 32, 5) 2560\n",
      "fcn/pred1/b:0 (5,) 5\n",
      "fcn/pred0/w:0 (4, 4, 32, 5) 2560\n",
      "fcn/pred0/b:0 (5,) 5\n",
      "fcn/upscore3/w:0 (4, 4, 5, 5) 400\n",
      "fcn/upscore3/b:0 (5,) 5\n",
      "fcn/upscore2/w:0 (4, 4, 5, 5) 400\n",
      "fcn/upscore2/b:0 (5,) 5\n",
      "fcn/upscore1/w:0 (4, 4, 5, 5) 400\n",
      "fcn/upscore1/b:0 (5,) 5\n",
      "fcn/upscore0/w:0 (4, 4, 5, 5) 400\n",
      "fcn/upscore0/b:0 (5,) 5\n",
      "fcn/y_hat/w:0 (4, 4, 5, 5) 400\n",
      "fcn/y_hat/b:0 (5,) 5\n",
      "5747042\n"
     ]
    }
   ],
   "source": [
    "trainables = tf.trainable_variables()\n",
    "param_total = 0\n",
    "for var in trainables:\n",
    "    var_size = np.prod(var.get_shape())\n",
    "    param_total += var_size\n",
    "    \n",
    "    print(var.name, var.get_shape(), var_size)\n",
    "    \n",
    "print(param_total)"
   ]
  }
 ],
 "metadata": {
  "kernelspec": {
   "display_name": "Python 2",
   "language": "python",
   "name": "python2"
  },
  "language_info": {
   "codemirror_mode": {
    "name": "ipython",
    "version": 2
   },
   "file_extension": ".py",
   "mimetype": "text/x-python",
   "name": "python",
   "nbconvert_exporter": "python",
   "pygments_lexer": "ipython2",
   "version": "2.7.12"
  }
 },
 "nbformat": 4,
 "nbformat_minor": 2
}
