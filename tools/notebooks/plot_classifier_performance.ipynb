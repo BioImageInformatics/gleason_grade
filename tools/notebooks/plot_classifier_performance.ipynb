{
 "cells": [
  {
   "cell_type": "code",
   "execution_count": 30,
   "metadata": {},
   "outputs": [],
   "source": [
    "import numpy as np\n",
    "import pandas as pd\n",
    "\n",
    "%matplotlib inline\n",
    "from matplotlib import pyplot as plt\n",
    "import seaborn as sns\n",
    "\n",
    "files = [\n",
    "    '../tfhub_inception/processed_perf.tsv',\n",
    "    '../tfhub_mobilenet/all/processed_perf.tsv',\n",
    "    '../tfhub_nasnet/processed_perf.tsv',\n",
    "    '../tfhub_resnet_152/processed_perf.tsv',\n",
    "    '../SBU_resnet/processed_perf.csv'\n",
    "]\n",
    "labels = [\n",
    "    'Inception V3',\n",
    "    'MobileNet V2',\n",
    "    'NasNet Large',\n",
    "    'ResNet V2 152',\n",
    "    'RestNet 50 (ft)'\n",
    "]\n",
    "data = {l: [] for l in labels}\n",
    "averages = []"
   ]
  },
  {
   "cell_type": "code",
   "execution_count": 31,
   "metadata": {},
   "outputs": [],
   "source": [
    "d = pd.read_csv(files[0], header=0, index_col=0, sep='\\t')\n",
    "v = d['EpitheliumF1'].values; averages.append(np.mean(v))\n",
    "data[labels[0]] = d['EpitheliumF1'].values\n",
    "\n",
    "d = pd.read_csv(files[1], header=0, index_col=0, sep='\\t')\n",
    "v = d['EpitheliumF1'].values; averages.append(np.mean(v))\n",
    "data[labels[1]] = d['EpitheliumF1'].values\n",
    "\n",
    "d = pd.read_csv(files[2], header=0, index_col=0, sep='\\t')\n",
    "v = d['EpitheliumF1'].values; averages.append(np.mean(v))\n",
    "data[labels[2]] = d['EpitheliumF1'].values\n",
    "\n",
    "d = pd.read_csv(files[3], header=0, index_col=0, sep='\\t')\n",
    "v = d['EpitheliumF1'].values; averages.append(np.mean(v))\n",
    "data[labels[3]] = d['EpitheliumF1'].values"
   ]
  },
  {
   "cell_type": "code",
   "execution_count": 32,
   "metadata": {},
   "outputs": [],
   "source": [
    "# This one is a slightly different format, the values are comparable\n",
    "d = pd.read_csv(files[-1], header=0, index_col=0, sep=',')\n",
    "v = d['epithelium_f1'].values; averages.append(np.mean(v))\n",
    "data[labels[-1]] = d['epithelium_f1'].values"
   ]
  },
  {
   "cell_type": "code",
   "execution_count": 40,
   "metadata": {},
   "outputs": [
    {
     "data": {
      "text/plain": [
       "Text(0.5, 0, 'F1 Score')"
      ]
     },
     "execution_count": 40,
     "metadata": {},
     "output_type": "execute_result"
    },
    {
     "data": {
      "image/png": "[encoded data removed]",
      "text/plain": [
       "<Figure size 432x288 with 1 Axes>"
      ]
     },
     "metadata": {
      "needs_background": "light"
     },
     "output_type": "display_data"
    }
   ],
   "source": [
    "# Sort by the average F1 score\n",
    "srt = np.argsort(averages)\n",
    "srt_labels = np.array(labels)[srt]\n",
    "_ = [plt.boxplot(data[l], positions=[i], vert=False, widths=0.7) for i,l in enumerate(srt_labels)]\n",
    "plt.yticks(np.arange(0, len(labels)), srt_labels, fontsize=12)\n",
    "plt.ylabel('Model', fontsize=14)\n",
    "plt.xlabel('F1 Score', fontsize=14)"
   ]
  },
  {
   "cell_type": "code",
   "execution_count": null,
   "metadata": {},
   "outputs": [],
   "source": []
  }
 ],
 "metadata": {
  "jupytext": {
   "formats": "ipynb,md"
  },
  "kernelspec": {
   "display_name": "Python 3",
   "language": "python",
   "name": "python3"
  },
  "language_info": {
   "codemirror_mode": {
    "name": "ipython",
    "version": 3
   },
   "file_extension": ".py",
   "mimetype": "text/x-python",
   "name": "python",
   "nbconvert_exporter": "python",
   "pygments_lexer": "ipython3",
   "version": "3.6.8"
  }
 },
 "nbformat": 4,
 "nbformat_minor": 2
}
