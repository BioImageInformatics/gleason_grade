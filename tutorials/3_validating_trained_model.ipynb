{
 "cells": [
  {
   "cell_type": "code",
   "execution_count": 1,
   "metadata": {},
   "outputs": [],
   "source": [
    "from __future__ import print_function"
   ]
  },
  {
   "cell_type": "code",
   "execution_count": 2,
   "metadata": {},
   "outputs": [
    {
     "name": "stdout",
     "output_type": "stream",
     "text": [
      "checkpoint\t\t\t\tdensenet.ckpt-1501.meta\r\n",
      "densenet.ckpt-1001.data-00000-of-00001\tdensenet.ckpt-1751.data-00000-of-00001\r\n",
      "densenet.ckpt-1001.index\t\tdensenet.ckpt-1751.index\r\n",
      "densenet.ckpt-1001.meta\t\t\tdensenet.ckpt-1751.meta\r\n",
      "densenet.ckpt-1251.data-00000-of-00001\tdensenet.ckpt-2000.data-00000-of-00001\r\n",
      "densenet.ckpt-1251.index\t\tdensenet.ckpt-2000.index\r\n",
      "densenet.ckpt-1251.meta\t\t\tdensenet.ckpt-2000.meta\r\n",
      "densenet.ckpt-1501.data-00000-of-00001\tdensenet_settings.txt\r\n",
      "densenet.ckpt-1501.index\r\n"
     ]
    }
   ],
   "source": [
    "!ls trained_model/snapshots/"
   ]
  },
  {
   "cell_type": "markdown",
   "metadata": {},
   "source": [
    "Since we have such little data, we'll take a loose definition of validate, and use this opportunity to deomonstrate uncertainty estimation using `tfmodels`.\n",
    "\n",
    "First, we'll import the model and restore it from the latest snapshot."
   ]
  },
  {
   "cell_type": "code",
   "execution_count": 3,
   "metadata": {},
   "outputs": [],
   "source": [
    "import tensorflow as tf\n",
    "import sys\n",
    "sys.path.insert(0, '../')\n",
    "from densenet_small import Inference"
   ]
  },
  {
   "cell_type": "code",
   "execution_count": null,
   "metadata": {},
   "outputs": [],
   "source": [
    "model = "
   ]
  }
 ],
 "metadata": {
  "kernelspec": {
   "display_name": "tensorflow",
   "language": "python",
   "name": "tensorflow"
  },
  "language_info": {
   "codemirror_mode": {
    "name": "ipython",
    "version": 2
   },
   "file_extension": ".py",
   "mimetype": "text/x-python",
   "name": "python",
   "nbconvert_exporter": "python",
   "pygments_lexer": "ipython2",
   "version": "2.7.12"
  }
 },
 "nbformat": 4,
 "nbformat_minor": 2
}
