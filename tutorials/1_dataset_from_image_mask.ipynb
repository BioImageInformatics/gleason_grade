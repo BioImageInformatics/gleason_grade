{
 "cells": [
  {
   "cell_type": "markdown",
   "metadata": {},
   "source": [
    "This notebook will cover a process for using utility functions from `tfmodels` to convert pairs of images and masks into a tfrecord dataset for training segmentation networks.\n",
    "\n",
    "First, the data structure:"
   ]
  },
  {
   "cell_type": "code",
   "execution_count": 1,
   "metadata": {},
   "outputs": [
    {
     "name": "stdout",
     "output_type": "stream",
     "text": [
      "./example_data/img:\r\n",
      "test100.jpg  test102.jpg  test104.jpg  test106.jpg  test108.jpg  test10.jpg\r\n",
      "test101.jpg  test103.jpg  test105.jpg  test107.jpg  test109.jpg\r\n",
      "\r\n",
      "./example_data/mask:\r\n",
      "test100.png  test102.png  test104.png  test106.png  test108.png  test10.png\r\n",
      "test101.png  test103.png  test105.png  test107.png  test109.png\r\n"
     ]
    }
   ],
   "source": [
    "!ls ./example_data/*"
   ]
  },
  {
   "cell_type": "markdown",
   "metadata": {},
   "source": [
    "My copy of [`tfmodels`](https://github.com/BioImageInformatics/tfmodels) is in the root of this project, so one up from where we are now. Make sure you know the path to yours... something like:"
   ]
  },
  {
   "cell_type": "code",
   "execution_count": 3,
   "metadata": {},
   "outputs": [
    {
     "name": "stdout",
     "output_type": "stream",
     "text": [
      "assets\texperiments  ReadMe.md\ttfmodels\r\n"
     ]
    }
   ],
   "source": [
    "!ls ../tfmodels"
   ]
  },
  {
   "cell_type": "markdown",
   "metadata": {},
   "source": [
    "Easy enough, we'll import that as a module. `tfmodels` relies on `tensorflow`, `numpy`, and some others so make sure all the dependencies are installed."
   ]
  },
  {
   "cell_type": "code",
   "execution_count": 4,
   "metadata": {},
   "outputs": [],
   "source": [
    "import sys\n",
    "sys.path.insert(0, '../tfmodels')\n",
    "import tfmodels"
   ]
  },
  {
   "cell_type": "markdown",
   "metadata": {},
   "source": [
    "`tfmodels` has a utility for creating `tfrecords` out of image/mask pair examples, since it's something that we do pretty often. We just have to define some paths and a few constants related to the experiment we're going to do:\n",
    "\n",
    "1. Write down a pattern we want to pass into `glob`, for both the images, and masks.\n",
    "2. path to place the resulting `tfrecord`\n",
    "3. Integeer number of classes to be expected in the dataset\n",
    "\n",
    "Those are all the required arguments. There are more options like autmated sub-tiling of the original images, or preprocessing to apply to image, mask, or both, but we don't need them for this."
   ]
  },
  {
   "cell_type": "code",
   "execution_count": 5,
   "metadata": {},
   "outputs": [],
   "source": [
    "# Maybe needed to silence some warnings. Everything runs fine without this line:\n",
    "# os.environ['TF_CPP_MIN_LOG_LEVEL'] = '2'\n",
    "\n",
    "img_patt = './example_data/img/*.jpg'\n",
    "mask_patt = './example_data/mask/*.png'\n",
    "record_path = './example_data/image_mask_pairs.tfrecord'"
   ]
  },
  {
   "cell_type": "markdown",
   "metadata": {},
   "source": [
    "Now we're ready to all our function:"
   ]
  },
  {
   "cell_type": "code",
   "execution_count": 6,
   "metadata": {},
   "outputs": [
    {
     "name": "stdout",
     "output_type": "stream",
     "text": [
      "Got 11 source images\n",
      "Finished writing [./example_data/image_mask_pairs.tfrecord]\n"
     ]
    }
   ],
   "source": [
    "tfmodels.image_mask_2_tfrecord(img_patt, mask_patt, record_path)"
   ]
  },
  {
   "cell_type": "markdown",
   "metadata": {},
   "source": [
    "Good. Notice that the `tfrecord` is a binary file, and that it's quite a bit larger than the sources. This is because we're storing the image data and mask data as uncompressed matrices. So, if there are many examples the database will be large and it might be worth considering how to split it up into smaller pieces."
   ]
  },
  {
   "cell_type": "code",
   "execution_count": 9,
   "metadata": {},
   "outputs": [
    {
     "name": "stdout",
     "output_type": "stream",
     "text": [
      "4.9M\t./example_data/img/\n",
      "260K\t./example_data/mask/\n",
      "-rw-rw-r-- 1 nathan nathan 61M Jul 26 11:52 ./example_data/image_mask_pairs.tfrecord\n"
     ]
    }
   ],
   "source": [
    "!du -sh ./example_data/img/\n",
    "!du -sh ./example_data/mask/\n",
    "!ls -lha ./example_data/image_mask_pairs.tfrecord"
   ]
  },
  {
   "cell_type": "code",
   "execution_count": null,
   "metadata": {},
   "outputs": [],
   "source": []
  }
 ],
 "metadata": {
  "kernelspec": {
   "display_name": "tensorflow",
   "language": "python",
   "name": "tensorflow"
  },
  "language_info": {
   "codemirror_mode": {
    "name": "ipython",
    "version": 2
   },
   "file_extension": ".py",
   "mimetype": "text/x-python",
   "name": "python",
   "nbconvert_exporter": "python",
   "pygments_lexer": "ipython2",
   "version": "2.7.12"
  }
 },
 "nbformat": 4,
 "nbformat_minor": 2
}
